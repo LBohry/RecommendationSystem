{
 "cells": [
  {
   "cell_type": "markdown",
   "source": [
    "IMPORTS"
   ],
   "metadata": {
    "collapsed": false
   }
  },
  {
   "cell_type": "code",
   "execution_count": null,
   "outputs": [],
   "source": [
    "import pandas as pd\n",
    "import pickle\n",
    "from sklearn.metrics.pairwise import cosine_similarity\n",
    "from collections import Counter"
   ],
   "metadata": {
    "collapsed": false
   }
  },
  {
   "cell_type": "markdown",
   "source": [
    "THESE ARE FILES THAT WOULD PROBABLY BE IMPORTED INTO A VOLUME"
   ],
   "metadata": {
    "collapsed": false
   }
  },
  {
   "cell_type": "code",
   "execution_count": null,
   "outputs": [],
   "source": [
    "demopref_data = pd.read_csv('demopref_data')\n",
    "U_I_merged_df = pd.read_csv('U_I_merged_df')"
   ],
   "metadata": {
    "collapsed": false
   }
  },
  {
   "cell_type": "markdown",
   "source": [
    "THESE WILL PROBABLY BE AT JUST BEFORE THE LAST LAYER OF RECOMMENDATIONS"
   ],
   "metadata": {
    "collapsed": false
   }
  },
  {
   "cell_type": "code",
   "execution_count": null,
   "outputs": [],
   "source": [
    "# Load the user_item_matrix from file\n",
    "user_item_matrix = pd.read_pickle('user_item_matrix.pkl')\n",
    "# Loading the demopref kmeans model\n",
    "with open('kmeans_model.pkl', 'rb') as f:\n",
    "    kmeans = pickle.load(f)"
   ],
   "metadata": {
    "collapsed": false
   }
  },
  {
   "cell_type": "markdown",
   "source": [
    "THESE ARE FUNCTIONS NECESSARY FOR THE BUILD OF THE RECOMMENDATIONS, SO WILL PROBABLY BE IN THE EARLIER LAYERS"
   ],
   "metadata": {
    "collapsed": false
   }
  },
  {
   "cell_type": "code",
   "execution_count": null,
   "outputs": [],
   "source": [
    "\n",
    "# Calculate the cosine similarity between users\n",
    "user_similarity = cosine_similarity(user_item_matrix)\n",
    "\n",
    "# Define a function to get the K most similar users\n",
    "def find_similar_users(user_id, user_similarity, k=10):\n",
    "    # Get the index of the user\n",
    "    user_index = user_item_matrix.index.tolist().index(user_id)\n",
    "\n",
    "    # Get the similarity scores for all users (convert to list to sort it)\n",
    "\n",
    "    similarity_scores = user_similarity[user_index]\n",
    "\n",
    "    # Sort the users based on their similarity scores\n",
    "\n",
    "    sorted_indices = similarity_scores.argsort()[::-1]\n",
    "\n",
    "    # Get the K most similar users\n",
    "    similar_users = [list(U_I_merged_df['id_student'].unique())[i] for i in sorted_indices if i != user_index][:k]\n",
    "    return similar_users\n"
   ],
   "metadata": {
    "collapsed": false
   }
  },
  {
   "cell_type": "code",
   "execution_count": null,
   "outputs": [],
   "source": [
    "\n",
    "def recommend_courses(user_id, user_similarity, user_item_matrix, U_I_merged_df, k=10):\n",
    "    # Get the K most similar users\n",
    "    similar_users = find_similar_users(user_id, user_similarity, k=k)\n",
    "\n",
    "    # Get the courses taken by similar users\n",
    "    similar_courses = []\n",
    "    for user in similar_users:\n",
    "        user_courses = U_I_merged_df.loc[U_I_merged_df['id_student'] == user]['code_module']\n",
    "        similar_courses.extend(user_courses)\n",
    "\n",
    "    # Count the frequency of each course\n",
    "    course_counts = Counter(similar_courses)\n",
    "    print(course_counts)\n",
    "\n",
    "    # Get the courses the user is enrolled in\n",
    "    userT_courses = U_I_merged_df.loc[U_I_merged_df['id_student'] == user_id]['code_module']\n",
    "    list_userT_courses = list(userT_courses)\n",
    "    list_userT_courses = Counter(list_userT_courses)\n",
    "    # Sort the courses by frequency and get the top K courses\n",
    "    top_courses = [course for course, count in course_counts.most_common(k) if course not in list_userT_courses]\n",
    "\n",
    "    return top_courses, list_userT_courses\n",
    "\n",
    "\n",
    "\n",
    "    return top_courses"
   ],
   "metadata": {
    "collapsed": false
   }
  },
  {
   "cell_type": "markdown",
   "source": [
    "RECOMMENDATIONS BASED ON USER_ITEM_MATRIX"
   ],
   "metadata": {
    "collapsed": false
   }
  },
  {
   "cell_type": "code",
   "execution_count": null,
   "outputs": [],
   "source": [
    "recommended_courses, list_userT_courses = recommend_courses(205719, user_similarity, user_item_matrix, U_I_merged_df, k=3)\n",
    "print(f\"Courses enrolled in by user 205719: {list_userT_courses}\")\n",
    "print(f\"Top recommended courses for user 205719: {recommended_courses}\")"
   ],
   "metadata": {
    "collapsed": false
   }
  },
  {
   "cell_type": "markdown",
   "source": [
    "RECOMMEND COURSES BASED ON VLE PREFERENCES & CLUSTER OF TARGET USER\n"
   ],
   "metadata": {
    "collapsed": false
   }
  },
  {
   "cell_type": "code",
   "execution_count": null,
   "outputs": [],
   "source": [
    "# define the target student ID\n",
    "target_student_id = 205719\n",
    "\n",
    "# select the cluster label of the target student\n",
    "target_student_cluster = demopref_data.loc[demopref_data['id_student'] == target_student_id, 'cluster_label'].values[0]\n",
    "\n",
    "# find the similar students based on VLE preferences\n",
    "similar_students = find_similar_users(target_student_id, user_similarity, k=15)\n",
    "\n",
    "# filter the similar students based on their cluster label\n",
    "similar_students = demopref_data.loc[demopref_data['cluster_label'] == target_student_cluster & demopref_data['id_student'].isin(similar_students)]\n",
    "\n",
    "# Find the courses that are most frequently taken by the filtered similar students\n",
    "freq_courses = similar_students.iloc[:, :7].sum().dropna().sort_values(ascending=False)\n",
    "freq_courses = freq_courses[freq_courses != 0].nlargest(3)\n",
    "\n",
    "# Recommend the courses that the target student has not taken yet but are among the most frequently taken courses by the filtered similar students\n",
    "target_student_courses = demopref_data.loc[demopref_data['id_student'] == target_student_id].iloc[0, :7]\n",
    "recommended_courses = freq_courses[~target_student_courses.astype(bool)].index.tolist()\n",
    "print(f\"Recommended courses for student {target_student_id}: {recommended_courses}\")"
   ],
   "metadata": {
    "collapsed": false
   }
  },
  {
   "cell_type": "markdown",
   "source": [
    "## THE STEPS BELOW ARE PROBABLY RELEVANT MORE TO NIFI, PRE TREATEMENT AND DATA INGESTION AND PREPARATION AND THINGS LIKE THAT"
   ],
   "metadata": {
    "collapsed": false
   }
  },
  {
   "cell_type": "markdown",
   "source": [
    "THESE MIGHT BE STEPS OF PRE TREATEMENT BEFORE LOADING TO THE KMEANS MODEL"
   ],
   "metadata": {
    "collapsed": false
   }
  },
  {
   "cell_type": "code",
   "execution_count": null,
   "outputs": [],
   "source": [
    "loaded_data = pd.read_csv('df_full_cleaned_predicted_imdband')\n",
    "\n",
    "demo_features = ['id_student', 'gender', 'region', 'highest_education', 'imd_band', 'age_band', 'studied_credits', 'disability']\n",
    "perf_features = ['code_module', 'code_presentation', 'id_assignment', 'score', 'is_banked', 'num_of_prev_attempts', 'final_result']\n",
    "\n",
    "additional_demo_data = pd.read_csv('studentInfo.csv')\n",
    "\n",
    "added_features = additional_demo_data[['id_student', 'code_module', 'code_presentation', 'final_result', 'studied_credits']]\n",
    "\n",
    "added_features = pd.get_dummies(added_features, columns=['code_module', 'code_presentation'], prefix=['code_module', 'code_presentation'])\n",
    "# Merge the student information data with the original DataFrame\n",
    "demopref_data = pd.merge(loaded_data, added_features, on=['id_student', 'code_presentation_2013B','code_presentation_2013J','code_presentation_2014B','code_presentation_2014J', 'code_module_AAA','code_module_BBB','code_module_CCC','code_module_DDD','code_module_EEE','code_module_FFF','code_module_GGG' ] )\n",
    "\n",
    "# Drop the irrelevant columns\n",
    "demopref_data.drop(['sum_click', 'id_site'], axis=1, inplace=True)\n",
    "demopref_data = pd.get_dummies(demopref_data, columns=['final_result'], prefix='final_result')\n",
    "demopref_data['id_student'] = demopref_data['id_student'].astype(int)\n",
    "demopref_data['id_assessment'] = demopref_data['id_assessment'].astype(int)"
   ],
   "metadata": {
    "collapsed": false
   }
  },
  {
   "cell_type": "markdown",
   "source": [
    "THIS WAS THE CODE TO GENERATE THE USER_ITEM_MATRIX"
   ],
   "metadata": {
    "collapsed": false
   }
  },
  {
   "cell_type": "code",
   "execution_count": null,
   "outputs": [],
   "source": [
    "user_item_matrix = pd.pivot_table(U_I_merged_df, values='sum_click', index='id_student', columns='id_site', aggfunc='sum', fill_value=0)"
   ],
   "metadata": {
    "collapsed": false
   }
  }
 ],
 "metadata": {
  "kernelspec": {
   "display_name": "Python 3",
   "language": "python",
   "name": "python3"
  },
  "language_info": {
   "codemirror_mode": {
    "name": "ipython",
    "version": 2
   },
   "file_extension": ".py",
   "mimetype": "text/x-python",
   "name": "python",
   "nbconvert_exporter": "python",
   "pygments_lexer": "ipython2",
   "version": "2.7.6"
  }
 },
 "nbformat": 4,
 "nbformat_minor": 0
}
