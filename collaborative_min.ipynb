{
 "cells": [
  {
   "cell_type": "markdown",
   "metadata": {
    "collapsed": false
   },
   "source": [
    "IMPORTS"
   ]
  },
  {
   "cell_type": "code",
   "execution_count": 1,
   "metadata": {
    "collapsed": false
   },
   "outputs": [],
   "source": [
    "import pandas as pd\n",
    "import pickle\n",
    "from sklearn.metrics.pairwise import cosine_similarity\n",
    "from collections import Counter"
   ]
  },
  {
   "cell_type": "markdown",
   "metadata": {
    "collapsed": false
   },
   "source": [
    "THESE ARE FILES THAT WOULD PROBABLY BE IMPORTED INTO A VOLUME"
   ]
  },
  {
   "cell_type": "code",
   "execution_count": 2,
   "metadata": {
    "collapsed": false
   },
   "outputs": [],
   "source": [
    "demopref_data = pd.read_csv('demopref_data')\n",
    "U_I_merged_df = pd.read_csv('U_I_merged_df')"
   ]
  },
  {
   "cell_type": "code",
   "execution_count": 4,
   "metadata": {},
   "outputs": [
    {
     "name": "stdout",
     "output_type": "stream",
     "text": [
      "         code_module code_presentation  id_student  id_site  date  sum_click  \\\n",
      "0                AAA             2013J       11391   546669    -5         16   \n",
      "1                AAA             2013J       11391   546669    17         15   \n",
      "2                AAA             2013J       28400   546669     6          4   \n",
      "3                AAA             2013J       28400   546669     7          1   \n",
      "4                AAA             2013J       32885   546669    13          3   \n",
      "...              ...               ...         ...      ...   ...        ...   \n",
      "10655275         GGG             2014J      687620   897095   147          3   \n",
      "10655276         GGG             2014J      688819   897095     1          1   \n",
      "10655277         GGG             2014J      642694   897110    15          1   \n",
      "10655278         GGG             2014J      675924   897110    39          1   \n",
      "10655279         GGG             2014J      687821   897110    93          1   \n",
      "\n",
      "         activity_type  \n",
      "0            oucontent  \n",
      "1            oucontent  \n",
      "2            oucontent  \n",
      "3            oucontent  \n",
      "4            oucontent  \n",
      "...                ...  \n",
      "10655275      resource  \n",
      "10655276      resource  \n",
      "10655277      resource  \n",
      "10655278      resource  \n",
      "10655279      resource  \n",
      "\n",
      "[10655280 rows x 7 columns]\n"
     ]
    }
   ],
   "source": [
    "print(U_I_merged_df)"
   ]
  },
  {
   "cell_type": "markdown",
   "metadata": {
    "collapsed": false
   },
   "source": [
    "THESE WILL PROBABLY BE AT JUST BEFORE THE LAST LAYER OF RECOMMENDATIONS"
   ]
  },
  {
   "cell_type": "code",
   "execution_count": 5,
   "metadata": {
    "collapsed": false
   },
   "outputs": [],
   "source": [
    "# Load the user_item_matrix from file\n",
    "user_item_matrix = pd.read_pickle('user_item_matrix.pkl')\n",
    "# Loading the demopref kmeans model\n",
    "with open('kmeans_model.pkl', 'rb') as f:\n",
    "    kmeans = pickle.load(f)"
   ]
  },
  {
   "cell_type": "code",
   "execution_count": 6,
   "metadata": {},
   "outputs": [
    {
     "data": {
      "text/html": [
       "<div>\n",
       "<style scoped>\n",
       "    .dataframe tbody tr th:only-of-type {\n",
       "        vertical-align: middle;\n",
       "    }\n",
       "\n",
       "    .dataframe tbody tr th {\n",
       "        vertical-align: top;\n",
       "    }\n",
       "\n",
       "    .dataframe thead th {\n",
       "        text-align: right;\n",
       "    }\n",
       "</style>\n",
       "<table border=\"1\" class=\"dataframe\">\n",
       "  <thead>\n",
       "    <tr style=\"text-align: right;\">\n",
       "      <th>id_site</th>\n",
       "      <th>526721</th>\n",
       "      <th>526735</th>\n",
       "      <th>526737</th>\n",
       "      <th>526738</th>\n",
       "      <th>526739</th>\n",
       "      <th>526740</th>\n",
       "      <th>526741</th>\n",
       "      <th>526742</th>\n",
       "      <th>526743</th>\n",
       "      <th>526744</th>\n",
       "      <th>...</th>\n",
       "      <th>1016724</th>\n",
       "      <th>1019025</th>\n",
       "      <th>1042373</th>\n",
       "      <th>1042374</th>\n",
       "      <th>1042375</th>\n",
       "      <th>1042376</th>\n",
       "      <th>1046237</th>\n",
       "      <th>1046812</th>\n",
       "      <th>1046866</th>\n",
       "      <th>1049562</th>\n",
       "    </tr>\n",
       "    <tr>\n",
       "      <th>id_student</th>\n",
       "      <th></th>\n",
       "      <th></th>\n",
       "      <th></th>\n",
       "      <th></th>\n",
       "      <th></th>\n",
       "      <th></th>\n",
       "      <th></th>\n",
       "      <th></th>\n",
       "      <th></th>\n",
       "      <th></th>\n",
       "      <th></th>\n",
       "      <th></th>\n",
       "      <th></th>\n",
       "      <th></th>\n",
       "      <th></th>\n",
       "      <th></th>\n",
       "      <th></th>\n",
       "      <th></th>\n",
       "      <th></th>\n",
       "      <th></th>\n",
       "      <th></th>\n",
       "    </tr>\n",
       "  </thead>\n",
       "  <tbody>\n",
       "    <tr>\n",
       "      <th>6516</th>\n",
       "      <td>0</td>\n",
       "      <td>0</td>\n",
       "      <td>0</td>\n",
       "      <td>0</td>\n",
       "      <td>0</td>\n",
       "      <td>0</td>\n",
       "      <td>0</td>\n",
       "      <td>0</td>\n",
       "      <td>0</td>\n",
       "      <td>0</td>\n",
       "      <td>...</td>\n",
       "      <td>0</td>\n",
       "      <td>0</td>\n",
       "      <td>0</td>\n",
       "      <td>0</td>\n",
       "      <td>0</td>\n",
       "      <td>0</td>\n",
       "      <td>0</td>\n",
       "      <td>0</td>\n",
       "      <td>0</td>\n",
       "      <td>0</td>\n",
       "    </tr>\n",
       "    <tr>\n",
       "      <th>8462</th>\n",
       "      <td>0</td>\n",
       "      <td>0</td>\n",
       "      <td>0</td>\n",
       "      <td>0</td>\n",
       "      <td>0</td>\n",
       "      <td>0</td>\n",
       "      <td>0</td>\n",
       "      <td>0</td>\n",
       "      <td>0</td>\n",
       "      <td>0</td>\n",
       "      <td>...</td>\n",
       "      <td>0</td>\n",
       "      <td>0</td>\n",
       "      <td>0</td>\n",
       "      <td>0</td>\n",
       "      <td>0</td>\n",
       "      <td>0</td>\n",
       "      <td>0</td>\n",
       "      <td>0</td>\n",
       "      <td>0</td>\n",
       "      <td>0</td>\n",
       "    </tr>\n",
       "    <tr>\n",
       "      <th>11391</th>\n",
       "      <td>0</td>\n",
       "      <td>0</td>\n",
       "      <td>0</td>\n",
       "      <td>0</td>\n",
       "      <td>0</td>\n",
       "      <td>0</td>\n",
       "      <td>0</td>\n",
       "      <td>0</td>\n",
       "      <td>0</td>\n",
       "      <td>0</td>\n",
       "      <td>...</td>\n",
       "      <td>0</td>\n",
       "      <td>0</td>\n",
       "      <td>0</td>\n",
       "      <td>0</td>\n",
       "      <td>0</td>\n",
       "      <td>0</td>\n",
       "      <td>0</td>\n",
       "      <td>0</td>\n",
       "      <td>0</td>\n",
       "      <td>0</td>\n",
       "    </tr>\n",
       "    <tr>\n",
       "      <th>23629</th>\n",
       "      <td>0</td>\n",
       "      <td>0</td>\n",
       "      <td>0</td>\n",
       "      <td>0</td>\n",
       "      <td>0</td>\n",
       "      <td>0</td>\n",
       "      <td>0</td>\n",
       "      <td>0</td>\n",
       "      <td>0</td>\n",
       "      <td>0</td>\n",
       "      <td>...</td>\n",
       "      <td>0</td>\n",
       "      <td>0</td>\n",
       "      <td>0</td>\n",
       "      <td>0</td>\n",
       "      <td>0</td>\n",
       "      <td>0</td>\n",
       "      <td>0</td>\n",
       "      <td>0</td>\n",
       "      <td>0</td>\n",
       "      <td>0</td>\n",
       "    </tr>\n",
       "    <tr>\n",
       "      <th>23698</th>\n",
       "      <td>0</td>\n",
       "      <td>0</td>\n",
       "      <td>0</td>\n",
       "      <td>0</td>\n",
       "      <td>0</td>\n",
       "      <td>0</td>\n",
       "      <td>0</td>\n",
       "      <td>0</td>\n",
       "      <td>0</td>\n",
       "      <td>0</td>\n",
       "      <td>...</td>\n",
       "      <td>0</td>\n",
       "      <td>1</td>\n",
       "      <td>0</td>\n",
       "      <td>0</td>\n",
       "      <td>0</td>\n",
       "      <td>0</td>\n",
       "      <td>0</td>\n",
       "      <td>0</td>\n",
       "      <td>0</td>\n",
       "      <td>0</td>\n",
       "    </tr>\n",
       "    <tr>\n",
       "      <th>...</th>\n",
       "      <td>...</td>\n",
       "      <td>...</td>\n",
       "      <td>...</td>\n",
       "      <td>...</td>\n",
       "      <td>...</td>\n",
       "      <td>...</td>\n",
       "      <td>...</td>\n",
       "      <td>...</td>\n",
       "      <td>...</td>\n",
       "      <td>...</td>\n",
       "      <td>...</td>\n",
       "      <td>...</td>\n",
       "      <td>...</td>\n",
       "      <td>...</td>\n",
       "      <td>...</td>\n",
       "      <td>...</td>\n",
       "      <td>...</td>\n",
       "      <td>...</td>\n",
       "      <td>...</td>\n",
       "      <td>...</td>\n",
       "      <td>...</td>\n",
       "    </tr>\n",
       "    <tr>\n",
       "      <th>2698251</th>\n",
       "      <td>0</td>\n",
       "      <td>0</td>\n",
       "      <td>0</td>\n",
       "      <td>0</td>\n",
       "      <td>0</td>\n",
       "      <td>0</td>\n",
       "      <td>0</td>\n",
       "      <td>0</td>\n",
       "      <td>0</td>\n",
       "      <td>0</td>\n",
       "      <td>...</td>\n",
       "      <td>0</td>\n",
       "      <td>0</td>\n",
       "      <td>0</td>\n",
       "      <td>0</td>\n",
       "      <td>0</td>\n",
       "      <td>0</td>\n",
       "      <td>0</td>\n",
       "      <td>0</td>\n",
       "      <td>0</td>\n",
       "      <td>0</td>\n",
       "    </tr>\n",
       "    <tr>\n",
       "      <th>2698257</th>\n",
       "      <td>0</td>\n",
       "      <td>0</td>\n",
       "      <td>0</td>\n",
       "      <td>0</td>\n",
       "      <td>0</td>\n",
       "      <td>0</td>\n",
       "      <td>0</td>\n",
       "      <td>0</td>\n",
       "      <td>0</td>\n",
       "      <td>0</td>\n",
       "      <td>...</td>\n",
       "      <td>0</td>\n",
       "      <td>0</td>\n",
       "      <td>0</td>\n",
       "      <td>0</td>\n",
       "      <td>0</td>\n",
       "      <td>0</td>\n",
       "      <td>0</td>\n",
       "      <td>0</td>\n",
       "      <td>0</td>\n",
       "      <td>0</td>\n",
       "    </tr>\n",
       "    <tr>\n",
       "      <th>2698535</th>\n",
       "      <td>0</td>\n",
       "      <td>0</td>\n",
       "      <td>0</td>\n",
       "      <td>0</td>\n",
       "      <td>0</td>\n",
       "      <td>0</td>\n",
       "      <td>0</td>\n",
       "      <td>0</td>\n",
       "      <td>0</td>\n",
       "      <td>0</td>\n",
       "      <td>...</td>\n",
       "      <td>0</td>\n",
       "      <td>0</td>\n",
       "      <td>0</td>\n",
       "      <td>0</td>\n",
       "      <td>0</td>\n",
       "      <td>0</td>\n",
       "      <td>0</td>\n",
       "      <td>0</td>\n",
       "      <td>0</td>\n",
       "      <td>0</td>\n",
       "    </tr>\n",
       "    <tr>\n",
       "      <th>2698577</th>\n",
       "      <td>0</td>\n",
       "      <td>0</td>\n",
       "      <td>0</td>\n",
       "      <td>0</td>\n",
       "      <td>0</td>\n",
       "      <td>0</td>\n",
       "      <td>0</td>\n",
       "      <td>0</td>\n",
       "      <td>0</td>\n",
       "      <td>0</td>\n",
       "      <td>...</td>\n",
       "      <td>0</td>\n",
       "      <td>0</td>\n",
       "      <td>0</td>\n",
       "      <td>0</td>\n",
       "      <td>0</td>\n",
       "      <td>0</td>\n",
       "      <td>0</td>\n",
       "      <td>0</td>\n",
       "      <td>0</td>\n",
       "      <td>0</td>\n",
       "    </tr>\n",
       "    <tr>\n",
       "      <th>2698588</th>\n",
       "      <td>0</td>\n",
       "      <td>0</td>\n",
       "      <td>0</td>\n",
       "      <td>0</td>\n",
       "      <td>0</td>\n",
       "      <td>0</td>\n",
       "      <td>0</td>\n",
       "      <td>0</td>\n",
       "      <td>0</td>\n",
       "      <td>0</td>\n",
       "      <td>...</td>\n",
       "      <td>0</td>\n",
       "      <td>0</td>\n",
       "      <td>0</td>\n",
       "      <td>0</td>\n",
       "      <td>0</td>\n",
       "      <td>0</td>\n",
       "      <td>0</td>\n",
       "      <td>0</td>\n",
       "      <td>0</td>\n",
       "      <td>0</td>\n",
       "    </tr>\n",
       "  </tbody>\n",
       "</table>\n",
       "<p>26074 rows × 6268 columns</p>\n",
       "</div>"
      ],
      "text/plain": [
       "id_site     526721   526735   526737   526738   526739   526740   526741   \\\n",
       "id_student                                                                  \n",
       "6516              0        0        0        0        0        0        0   \n",
       "8462              0        0        0        0        0        0        0   \n",
       "11391             0        0        0        0        0        0        0   \n",
       "23629             0        0        0        0        0        0        0   \n",
       "23698             0        0        0        0        0        0        0   \n",
       "...             ...      ...      ...      ...      ...      ...      ...   \n",
       "2698251           0        0        0        0        0        0        0   \n",
       "2698257           0        0        0        0        0        0        0   \n",
       "2698535           0        0        0        0        0        0        0   \n",
       "2698577           0        0        0        0        0        0        0   \n",
       "2698588           0        0        0        0        0        0        0   \n",
       "\n",
       "id_site     526742   526743   526744   ...  1016724  1019025  1042373  \\\n",
       "id_student                             ...                              \n",
       "6516              0        0        0  ...        0        0        0   \n",
       "8462              0        0        0  ...        0        0        0   \n",
       "11391             0        0        0  ...        0        0        0   \n",
       "23629             0        0        0  ...        0        0        0   \n",
       "23698             0        0        0  ...        0        1        0   \n",
       "...             ...      ...      ...  ...      ...      ...      ...   \n",
       "2698251           0        0        0  ...        0        0        0   \n",
       "2698257           0        0        0  ...        0        0        0   \n",
       "2698535           0        0        0  ...        0        0        0   \n",
       "2698577           0        0        0  ...        0        0        0   \n",
       "2698588           0        0        0  ...        0        0        0   \n",
       "\n",
       "id_site     1042374  1042375  1042376  1046237  1046812  1046866  1049562  \n",
       "id_student                                                                 \n",
       "6516              0        0        0        0        0        0        0  \n",
       "8462              0        0        0        0        0        0        0  \n",
       "11391             0        0        0        0        0        0        0  \n",
       "23629             0        0        0        0        0        0        0  \n",
       "23698             0        0        0        0        0        0        0  \n",
       "...             ...      ...      ...      ...      ...      ...      ...  \n",
       "2698251           0        0        0        0        0        0        0  \n",
       "2698257           0        0        0        0        0        0        0  \n",
       "2698535           0        0        0        0        0        0        0  \n",
       "2698577           0        0        0        0        0        0        0  \n",
       "2698588           0        0        0        0        0        0        0  \n",
       "\n",
       "[26074 rows x 6268 columns]"
      ]
     },
     "execution_count": 6,
     "metadata": {},
     "output_type": "execute_result"
    }
   ],
   "source": [
    "user_item_matrix"
   ]
  },
  {
   "cell_type": "markdown",
   "metadata": {
    "collapsed": false
   },
   "source": [
    "THESE ARE FUNCTIONS NECESSARY FOR THE BUILD OF THE RECOMMENDATIONS, SO WILL PROBABLY BE IN THE EARLIER LAYERS"
   ]
  },
  {
   "cell_type": "code",
   "execution_count": 7,
   "metadata": {
    "collapsed": false
   },
   "outputs": [],
   "source": [
    "\n",
    "# Calculate the cosine similarity between users\n",
    "user_similarity = cosine_similarity(user_item_matrix)\n",
    "\n",
    "# Define a function to get the K most similar users\n",
    "def find_similar_users(user_id, user_similarity, k=10):\n",
    "    # Get the index of the user\n",
    "    user_index = user_item_matrix.index.tolist().index(user_id)\n",
    "\n",
    "    # Get the similarity scores for all users (convert to list to sort it)\n",
    "\n",
    "    similarity_scores = user_similarity[user_index]\n",
    "\n",
    "    # Sort the users based on their similarity scores\n",
    "\n",
    "    sorted_indices = similarity_scores.argsort()[::-1]\n",
    "\n",
    "    # Get the K most similar users\n",
    "    similar_users = [list(U_I_merged_df['id_student'].unique())[i] for i in sorted_indices if i != user_index][:k]\n",
    "    return similar_users\n"
   ]
  },
  {
   "cell_type": "code",
   "execution_count": 8,
   "metadata": {
    "collapsed": false
   },
   "outputs": [],
   "source": [
    "\n",
    "def recommend_courses_UI(user_id, user_similarity, user_item_matrix, U_I_merged_df, k=10):\n",
    "    # Get the K most similar users\n",
    "    similar_users = find_similar_users(user_id, user_similarity, k=k)\n",
    "\n",
    "    # Get the courses taken by similar users\n",
    "    similar_courses = []\n",
    "    for user in similar_users:\n",
    "        user_courses = U_I_merged_df.loc[U_I_merged_df['id_student'] == user]['code_module']\n",
    "        similar_courses.extend(user_courses)\n",
    "\n",
    "    # Count the frequency of each course\n",
    "    course_counts = Counter(similar_courses)\n",
    "    print(course_counts)\n",
    "\n",
    "    # Get the courses the user is enrolled in\n",
    "    userT_courses = U_I_merged_df.loc[U_I_merged_df['id_student'] == user_id]['code_module']\n",
    "    list_userT_courses = list(userT_courses)\n",
    "    list_userT_courses = Counter(list_userT_courses)\n",
    "    # Sort the courses by frequency and get the top K courses\n",
    "    top_courses = [course for course, count in course_counts.most_common(k) if course not in list_userT_courses]\n",
    "\n",
    "    return top_courses, list_userT_courses\n"
   ]
  },
  {
   "cell_type": "markdown",
   "metadata": {
    "collapsed": false
   },
   "source": [
    "RECOMMENDATIONS BASED ON USER_ITEM_MATRIX"
   ]
  },
  {
   "cell_type": "code",
   "execution_count": 9,
   "metadata": {
    "collapsed": false
   },
   "outputs": [
    {
     "name": "stdout",
     "output_type": "stream",
     "text": [
      "Counter({'FFF': 1667, 'AAA': 1328, 'GGG': 741})\n",
      "Courses enrolled in by user 205719: Counter({'AAA': 117})\n",
      "Top recommended courses for user 205719: ['FFF', 'GGG']\n"
     ]
    }
   ],
   "source": [
    "recommended_courses, list_userT_courses = recommend_courses_UI(205719, user_similarity, user_item_matrix, U_I_merged_df, k=3)\n",
    "print(f\"Courses enrolled in by user 205719: {list_userT_courses}\")\n",
    "print(f\"Top recommended courses for user 205719: {recommended_courses}\")"
   ]
  },
  {
   "cell_type": "markdown",
   "metadata": {
    "collapsed": false
   },
   "source": [
    "RECOMMEND COURSES BASED ON VLE PREFERENCES & CLUSTER OF TARGET USER\n"
   ]
  },
  {
   "cell_type": "code",
   "execution_count": 20,
   "metadata": {},
   "outputs": [],
   "source": [
    "# Calculate the cosine similarity between users\n",
    "user_similarity = cosine_similarity(user_item_matrix)\n",
    "\n",
    "demopref_data = pd.read_csv('demopref_data')\n"
   ]
  },
  {
   "cell_type": "code",
   "execution_count": 21,
   "metadata": {},
   "outputs": [
    {
     "name": "stdout",
     "output_type": "stream",
     "text": [
      "         code_module_AAA  code_module_BBB  code_module_CCC  code_module_DDD  \\\n",
      "0                    0.0              0.0              1.0              0.0   \n",
      "1                    0.0              0.0              1.0              0.0   \n",
      "2                    0.0              0.0              1.0              0.0   \n",
      "3                    0.0              0.0              1.0              0.0   \n",
      "4                    0.0              0.0              1.0              0.0   \n",
      "...                  ...              ...              ...              ...   \n",
      "1905375              0.0              0.0              0.0              1.0   \n",
      "1905376              0.0              0.0              0.0              1.0   \n",
      "1905377              0.0              0.0              0.0              1.0   \n",
      "1905378              0.0              0.0              0.0              1.0   \n",
      "1905379              0.0              0.0              0.0              1.0   \n",
      "\n",
      "         code_module_EEE  code_module_FFF  code_module_GGG  \\\n",
      "0                    0.0              0.0              0.0   \n",
      "1                    0.0              0.0              0.0   \n",
      "2                    0.0              0.0              0.0   \n",
      "3                    0.0              0.0              0.0   \n",
      "4                    0.0              0.0              0.0   \n",
      "...                  ...              ...              ...   \n",
      "1905375              0.0              0.0              0.0   \n",
      "1905376              0.0              0.0              0.0   \n",
      "1905377              0.0              0.0              0.0   \n",
      "1905378              0.0              0.0              0.0   \n",
      "1905379              0.0              0.0              0.0   \n",
      "\n",
      "         code_presentation_2013B  code_presentation_2013J  \\\n",
      "0                            0.0                      0.0   \n",
      "1                            0.0                      0.0   \n",
      "2                            0.0                      0.0   \n",
      "3                            0.0                      0.0   \n",
      "4                            0.0                      0.0   \n",
      "...                          ...                      ...   \n",
      "1905375                      0.0                      0.0   \n",
      "1905376                      0.0                      0.0   \n",
      "1905377                      0.0                      0.0   \n",
      "1905378                      0.0                      0.0   \n",
      "1905379                      0.0                      0.0   \n",
      "\n",
      "         code_presentation_2014B  ...  date_submitted  is_banked  score  \\\n",
      "0                            1.0  ...            20.0        0.0   60.0   \n",
      "1                            1.0  ...            20.0        0.0   60.0   \n",
      "2                            1.0  ...            20.0        0.0   60.0   \n",
      "3                            1.0  ...            20.0        0.0   60.0   \n",
      "4                            1.0  ...            20.0        0.0   60.0   \n",
      "...                          ...  ...             ...        ...    ...   \n",
      "1905375                      1.0  ...            25.0        0.0   71.0   \n",
      "1905376                      1.0  ...            25.0        0.0   71.0   \n",
      "1905377                      1.0  ...            25.0        0.0   71.0   \n",
      "1905378                      1.0  ...            25.0        0.0   71.0   \n",
      "1905379                      1.0  ...            25.0        0.0   71.0   \n",
      "\n",
      "         imd_band  studied_credits  final_result_Distinction  \\\n",
      "0               8               60                         0   \n",
      "1               8               60                         0   \n",
      "2               8               60                         0   \n",
      "3               8               60                         0   \n",
      "4               8               60                         0   \n",
      "...           ...              ...                       ...   \n",
      "1905375         2               60                         0   \n",
      "1905376         2               60                         0   \n",
      "1905377         2               60                         0   \n",
      "1905378         2               60                         0   \n",
      "1905379         2               60                         0   \n",
      "\n",
      "         final_result_Fail  final_result_Pass  final_result_Withdrawn  \\\n",
      "0                        0                  0                       1   \n",
      "1                        0                  0                       1   \n",
      "2                        0                  0                       1   \n",
      "3                        0                  0                       1   \n",
      "4                        0                  0                       1   \n",
      "...                    ...                ...                     ...   \n",
      "1905375                  0                  1                       0   \n",
      "1905376                  0                  1                       0   \n",
      "1905377                  0                  1                       0   \n",
      "1905378                  0                  1                       0   \n",
      "1905379                  0                  1                       0   \n",
      "\n",
      "         cluster_label  \n",
      "0                    0  \n",
      "1                    0  \n",
      "2                    0  \n",
      "3                    0  \n",
      "4                    0  \n",
      "...                ...  \n",
      "1905375              0  \n",
      "1905376              0  \n",
      "1905377              0  \n",
      "1905378              0  \n",
      "1905379              0  \n",
      "\n",
      "[1905380 rows x 49 columns]\n"
     ]
    }
   ],
   "source": [
    "print(demopref_data)"
   ]
  },
  {
   "cell_type": "code",
   "execution_count": 27,
   "metadata": {},
   "outputs": [
    {
     "ename": "KeyboardInterrupt",
     "evalue": "",
     "output_type": "error",
     "traceback": [
      "\u001b[1;31m---------------------------------------------------------------------------\u001b[0m",
      "\u001b[1;31mKeyboardInterrupt\u001b[0m                         Traceback (most recent call last)",
      "\u001b[1;32mc:\\Users\\Abirr\\DataspellProjects\\workspacePFE\\collaborative_min.ipynb Cell 17\u001b[0m in \u001b[0;36m1\n\u001b[1;32m----> <a href='vscode-notebook-cell:/c%3A/Users/Abirr/DataspellProjects/workspacePFE/collaborative_min.ipynb#X33sZmlsZQ%3D%3D?line=0'>1</a>\u001b[0m similar_students \u001b[39m=\u001b[39m find_similar_users(\u001b[39m205719\u001b[39;49m, user_similarity, k\u001b[39m=\u001b[39;49m\u001b[39m15\u001b[39;49m)\n\u001b[0;32m      <a href='vscode-notebook-cell:/c%3A/Users/Abirr/DataspellProjects/workspacePFE/collaborative_min.ipynb#X33sZmlsZQ%3D%3D?line=1'>2</a>\u001b[0m \u001b[39mprint\u001b[39m(similar_students\u001b[39m.\u001b[39mshape)\n",
      "\u001b[1;32mc:\\Users\\Abirr\\DataspellProjects\\workspacePFE\\collaborative_min.ipynb Cell 17\u001b[0m in \u001b[0;36m1\n\u001b[0;32m     <a href='vscode-notebook-cell:/c%3A/Users/Abirr/DataspellProjects/workspacePFE/collaborative_min.ipynb#X33sZmlsZQ%3D%3D?line=11'>12</a>\u001b[0m sorted_indices \u001b[39m=\u001b[39m similarity_scores\u001b[39m.\u001b[39margsort()[::\u001b[39m-\u001b[39m\u001b[39m1\u001b[39m]\n\u001b[0;32m     <a href='vscode-notebook-cell:/c%3A/Users/Abirr/DataspellProjects/workspacePFE/collaborative_min.ipynb#X33sZmlsZQ%3D%3D?line=13'>14</a>\u001b[0m \u001b[39m# Get the K most similar users\u001b[39;00m\n\u001b[1;32m---> <a href='vscode-notebook-cell:/c%3A/Users/Abirr/DataspellProjects/workspacePFE/collaborative_min.ipynb#X33sZmlsZQ%3D%3D?line=14'>15</a>\u001b[0m similar_users \u001b[39m=\u001b[39m [\u001b[39mlist\u001b[39;49m(U_I_merged_df[\u001b[39m'\u001b[39;49m\u001b[39mid_student\u001b[39;49m\u001b[39m'\u001b[39;49m]\u001b[39m.\u001b[39;49munique())[i] \u001b[39mfor\u001b[39;49;00m i \u001b[39min\u001b[39;49;00m sorted_indices \u001b[39mif\u001b[39;49;00m i \u001b[39m!=\u001b[39;49m user_index][:k]\n\u001b[0;32m     <a href='vscode-notebook-cell:/c%3A/Users/Abirr/DataspellProjects/workspacePFE/collaborative_min.ipynb#X33sZmlsZQ%3D%3D?line=15'>16</a>\u001b[0m \u001b[39mreturn\u001b[39;00m similar_users\n",
      "\u001b[1;32mc:\\Users\\Abirr\\DataspellProjects\\workspacePFE\\collaborative_min.ipynb Cell 17\u001b[0m in \u001b[0;36m1\n\u001b[0;32m     <a href='vscode-notebook-cell:/c%3A/Users/Abirr/DataspellProjects/workspacePFE/collaborative_min.ipynb#X33sZmlsZQ%3D%3D?line=11'>12</a>\u001b[0m sorted_indices \u001b[39m=\u001b[39m similarity_scores\u001b[39m.\u001b[39margsort()[::\u001b[39m-\u001b[39m\u001b[39m1\u001b[39m]\n\u001b[0;32m     <a href='vscode-notebook-cell:/c%3A/Users/Abirr/DataspellProjects/workspacePFE/collaborative_min.ipynb#X33sZmlsZQ%3D%3D?line=13'>14</a>\u001b[0m \u001b[39m# Get the K most similar users\u001b[39;00m\n\u001b[1;32m---> <a href='vscode-notebook-cell:/c%3A/Users/Abirr/DataspellProjects/workspacePFE/collaborative_min.ipynb#X33sZmlsZQ%3D%3D?line=14'>15</a>\u001b[0m similar_users \u001b[39m=\u001b[39m [\u001b[39mlist\u001b[39m(U_I_merged_df[\u001b[39m'\u001b[39;49m\u001b[39mid_student\u001b[39;49m\u001b[39m'\u001b[39;49m]\u001b[39m.\u001b[39;49munique())[i] \u001b[39mfor\u001b[39;00m i \u001b[39min\u001b[39;00m sorted_indices \u001b[39mif\u001b[39;00m i \u001b[39m!=\u001b[39m user_index][:k]\n\u001b[0;32m     <a href='vscode-notebook-cell:/c%3A/Users/Abirr/DataspellProjects/workspacePFE/collaborative_min.ipynb#X33sZmlsZQ%3D%3D?line=15'>16</a>\u001b[0m \u001b[39mreturn\u001b[39;00m similar_users\n",
      "File \u001b[1;32mc:\\Users\\Abirr\\AppData\\Local\\Programs\\Python\\Python311\\Lib\\site-packages\\pandas\\core\\series.py:2242\u001b[0m, in \u001b[0;36mSeries.unique\u001b[1;34m(self)\u001b[0m\n\u001b[0;32m   2183\u001b[0m \u001b[39mdef\u001b[39;00m \u001b[39munique\u001b[39m(\u001b[39mself\u001b[39m) \u001b[39m-\u001b[39m\u001b[39m>\u001b[39m ArrayLike:\n\u001b[0;32m   2184\u001b[0m     \u001b[39m\"\"\"\u001b[39;00m\n\u001b[0;32m   2185\u001b[0m \u001b[39m    Return unique values of Series object.\u001b[39;00m\n\u001b[0;32m   2186\u001b[0m \n\u001b[1;32m   (...)\u001b[0m\n\u001b[0;32m   2240\u001b[0m \u001b[39m    Categories (3, object): ['a' < 'b' < 'c']\u001b[39;00m\n\u001b[0;32m   2241\u001b[0m \u001b[39m    \"\"\"\u001b[39;00m\n\u001b[1;32m-> 2242\u001b[0m     \u001b[39mreturn\u001b[39;00m \u001b[39msuper\u001b[39;49m()\u001b[39m.\u001b[39;49munique()\n",
      "File \u001b[1;32mc:\\Users\\Abirr\\AppData\\Local\\Programs\\Python\\Python311\\Lib\\site-packages\\pandas\\core\\base.py:1001\u001b[0m, in \u001b[0;36mIndexOpsMixin.unique\u001b[1;34m(self)\u001b[0m\n\u001b[0;32m    999\u001b[0m         result \u001b[39m=\u001b[39m np\u001b[39m.\u001b[39masarray(result)\n\u001b[0;32m   1000\u001b[0m \u001b[39melse\u001b[39;00m:\n\u001b[1;32m-> 1001\u001b[0m     result \u001b[39m=\u001b[39m unique1d(values)\n\u001b[0;32m   1003\u001b[0m \u001b[39mreturn\u001b[39;00m result\n",
      "File \u001b[1;32mc:\\Users\\Abirr\\AppData\\Local\\Programs\\Python\\Python311\\Lib\\site-packages\\pandas\\core\\algorithms.py:409\u001b[0m, in \u001b[0;36munique\u001b[1;34m(values)\u001b[0m\n\u001b[0;32m    315\u001b[0m \u001b[39mdef\u001b[39;00m \u001b[39munique\u001b[39m(values):\n\u001b[0;32m    316\u001b[0m     \u001b[39m\"\"\"\u001b[39;00m\n\u001b[0;32m    317\u001b[0m \u001b[39m    Return unique values based on a hash table.\u001b[39;00m\n\u001b[0;32m    318\u001b[0m \n\u001b[1;32m   (...)\u001b[0m\n\u001b[0;32m    407\u001b[0m \u001b[39m    array([('a', 'b'), ('b', 'a'), ('a', 'c')], dtype=object)\u001b[39;00m\n\u001b[0;32m    408\u001b[0m \u001b[39m    \"\"\"\u001b[39;00m\n\u001b[1;32m--> 409\u001b[0m     \u001b[39mreturn\u001b[39;00m unique_with_mask(values)\n",
      "File \u001b[1;32mc:\\Users\\Abirr\\AppData\\Local\\Programs\\Python\\Python311\\Lib\\site-packages\\pandas\\core\\algorithms.py:425\u001b[0m, in \u001b[0;36munique_with_mask\u001b[1;34m(values, mask)\u001b[0m\n\u001b[0;32m    423\u001b[0m table \u001b[39m=\u001b[39m htable(\u001b[39mlen\u001b[39m(values))\n\u001b[0;32m    424\u001b[0m \u001b[39mif\u001b[39;00m mask \u001b[39mis\u001b[39;00m \u001b[39mNone\u001b[39;00m:\n\u001b[1;32m--> 425\u001b[0m     uniques \u001b[39m=\u001b[39m table\u001b[39m.\u001b[39;49munique(values)\n\u001b[0;32m    426\u001b[0m     uniques \u001b[39m=\u001b[39m _reconstruct_data(uniques, original\u001b[39m.\u001b[39mdtype, original)\n\u001b[0;32m    427\u001b[0m     \u001b[39mreturn\u001b[39;00m uniques\n",
      "\u001b[1;31mKeyboardInterrupt\u001b[0m: "
     ]
    }
   ],
   "source": [
    "similar_students = find_similar_users(205719, user_similarity, k=15)\n",
    "print(similar_students.shape)"
   ]
  },
  {
   "cell_type": "code",
   "execution_count": 28,
   "metadata": {},
   "outputs": [
    {
     "name": "stdout",
     "output_type": "stream",
     "text": [
      "(754208, 49)\n"
     ]
    }
   ],
   "source": [
    "print(similar_students.shape)"
   ]
  },
  {
   "cell_type": "code",
   "execution_count": 23,
   "metadata": {},
   "outputs": [
    {
     "name": "stdout",
     "output_type": "stream",
     "text": [
      "3\n"
     ]
    }
   ],
   "source": [
    "target_student_cluster = demopref_data.loc[demopref_data['id_student'] == 205719, 'cluster_label'].values[0]\n",
    "print(target_student_cluster)"
   ]
  },
  {
   "cell_type": "code",
   "execution_count": 31,
   "metadata": {},
   "outputs": [
    {
     "name": "stdout",
     "output_type": "stream",
     "text": [
      "Empty DataFrame\n",
      "Columns: [code_module_AAA, code_module_BBB, code_module_CCC, code_module_DDD, code_module_EEE, code_module_FFF, code_module_GGG, code_presentation_2013B, code_presentation_2013J, code_presentation_2014B, code_presentation_2014J, gender_F, gender_M, region_East Anglian Region, region_East Midlands Region, region_Ireland, region_London Region, region_North Region, region_North Western Region, region_Scotland, region_South East Region, region_South Region, region_South West Region, region_Wales, region_West Midlands Region, region_Yorkshire Region, highest_education_A Level or Equivalent, highest_education_HE Qualification, highest_education_Lower Than A Level, highest_education_No Formal quals, highest_education_Post Graduate Qualification, age_band_0-35, age_band_35-55, age_band_55<=, disability_N, disability_Y, id_student, num_of_prev_attempts, id_assessment, date_submitted, is_banked, score, imd_band, studied_credits, final_result_Distinction, final_result_Fail, final_result_Pass, final_result_Withdrawn, cluster_label]\n",
      "Index: []\n",
      "\n",
      "[0 rows x 49 columns]\n"
     ]
    }
   ],
   "source": [
    "# filter the similar students based on their cluster label\n",
    "similar_students = demopref_data.loc[(demopref_data['cluster_label'] == target_student_cluster & demopref_data['id_student'].isin(similar_students))]\n",
    "print(similar_students)"
   ]
  },
  {
   "cell_type": "code",
   "execution_count": 25,
   "metadata": {},
   "outputs": [
    {
     "name": "stdout",
     "output_type": "stream",
     "text": [
      "code_module_DDD    473968.0\n",
      "code_module_CCC    189406.0\n",
      "code_module_FFF     53649.0\n",
      "dtype: float64\n"
     ]
    }
   ],
   "source": [
    "# Find the courses that are most frequently taken by the filtered similar students\n",
    "freq_courses = similar_students.iloc[:, :7].sum().dropna().sort_values(ascending=False)\n",
    "freq_courses = freq_courses[freq_courses != 0].nlargest(3)\n",
    "print(freq_courses)"
   ]
  },
  {
   "cell_type": "code",
   "execution_count": 26,
   "metadata": {},
   "outputs": [
    {
     "name": "stdout",
     "output_type": "stream",
     "text": [
      "Recommended courses for student 205719: ['code_module_DDD', 'code_module_CCC', 'code_module_FFF']\n"
     ]
    }
   ],
   "source": [
    "\n",
    "# Recommend the courses that the target student has not taken yet but are among the most frequently taken courses by the filtered similar students\n",
    "target_student_courses = demopref_data.loc[demopref_data['id_student'] == 205719].iloc[0, :7]\n",
    "recommended_courses = freq_courses[~target_student_courses.astype(bool)].index.tolist()\n",
    "print(f\"Recommended courses for student {205719}: {recommended_courses}\")\n"
   ]
  },
  {
   "cell_type": "code",
   "execution_count": 12,
   "metadata": {},
   "outputs": [],
   "source": [
    "# Define a function to get the K most similar users\n",
    "def find_similar_users(user_id, user_similarity, k=10):\n",
    "    # Get the index of the user\n",
    "    user_index = user_item_matrix.index.tolist().index(user_id)\n",
    "\n",
    "    # Get the similarity scores for all users (convert to list to sort it)\n",
    "\n",
    "    similarity_scores = user_similarity[user_index]\n",
    "\n",
    "    # Sort the users based on their similarity scores\n",
    "\n",
    "    sorted_indices = similarity_scores.argsort()[::-1]\n",
    "\n",
    "    # Get the K most similar users\n",
    "    similar_users = [list(U_I_merged_df['id_student'].unique())[i] for i in sorted_indices if i != user_index][:k]\n",
    "    return similar_users\n",
    "\n",
    "\n",
    "\n",
    "\n",
    "def student_exists(student_id, demopref_data):\n",
    "    exists = demopref_data['id_student'].isin([student_id]).any()\n",
    "    return exists \n",
    "\n",
    "\n",
    "\n",
    "\n",
    "def recommend_courses(student_id, demopref_data, user_similarity):\n",
    "\n",
    "    if student_exists(student_id,demopref_data) == False:\n",
    "        top_courses = demopref_data.iloc[:, :7].sum().dropna().sort_values(ascending=False).nlargest(10)\n",
    "        print(f\"Most Popular Courses : {top_courses}\")\n",
    "        return top_courses\n",
    "    \n",
    "    else:\n",
    "        # select the cluster label of the target student\n",
    "        target_student_cluster = demopref_data.loc[demopref_data['id_student'] == student_id, 'cluster_label'].values[0]\n",
    "\n",
    "        # find the similar students based on VLE preferences\n",
    "        similar_students = find_similar_users(student_id, user_similarity, k=15)\n",
    "\n",
    "        # filter the similar students based on their cluster label\n",
    "        similar_students = demopref_data.loc[(demopref_data['cluster_label'] == target_student_cluster & demopref_data['id_student'].isin(similar_students))]\n",
    "\n",
    "        # Find the courses that are most frequently taken by the filtered similar students\n",
    "        freq_courses = similar_students.iloc[:, :7].sum().dropna().sort_values(ascending=False)\n",
    "        freq_courses = freq_courses[freq_courses != 0].nlargest(3)\n",
    "\n",
    "        # Recommend the courses that the target student has not taken yet but are among the most frequently taken courses by the filtered similar students\n",
    "        target_student_courses = demopref_data.loc[demopref_data['id_student'] == student_id].iloc[0, :7]\n",
    "        recommended_courses = freq_courses[~target_student_courses.astype(bool)].index.tolist()\n",
    "        print(f\"Recommended courses for student {student_id}: {recommended_courses}\")\n",
    "\n",
    "        return recommended_courses"
   ]
  },
  {
   "cell_type": "code",
   "execution_count": 13,
   "metadata": {
    "collapsed": false
   },
   "outputs": [
    {
     "name": "stdout",
     "output_type": "stream",
     "text": [
      "Recommended courses for student 205719: []\n",
      "[]\n"
     ]
    }
   ],
   "source": [
    "# Call the recommend_courses function with the student ID, demopref_data, and user_similarity\n",
    "recommended_courses = recommend_courses(205719, demopref_data, user_similarity)\n",
    "print(recommended_courses)"
   ]
  },
  {
   "cell_type": "markdown",
   "metadata": {
    "collapsed": false
   },
   "source": [
    "## THE STEPS BELOW ARE PROBABLY RELEVANT MORE TO NIFI, PRE TREATEMENT AND DATA INGESTION AND PREPARATION AND THINGS LIKE THAT"
   ]
  },
  {
   "cell_type": "markdown",
   "metadata": {
    "collapsed": false
   },
   "source": [
    "THESE MIGHT BE STEPS OF PRE TREATEMENT BEFORE LOADING TO THE KMEANS MODEL"
   ]
  },
  {
   "cell_type": "code",
   "execution_count": null,
   "metadata": {
    "collapsed": false
   },
   "outputs": [],
   "source": [
    "loaded_data = pd.read_csv('df_full_cleaned_predicted_imdband')\n",
    "\n",
    "demo_features = ['id_student', 'gender', 'region', 'highest_education', 'imd_band', 'age_band', 'studied_credits', 'disability']\n",
    "perf_features = ['code_module', 'code_presentation', 'id_assignment', 'score', 'is_banked', 'num_of_prev_attempts', 'final_result']\n",
    "\n",
    "additional_demo_data = pd.read_csv('studentInfo.csv')\n",
    "\n",
    "added_features = additional_demo_data[['id_student', 'code_module', 'code_presentation', 'final_result', 'studied_credits']]\n",
    "\n",
    "added_features = pd.get_dummies(added_features, columns=['code_module', 'code_presentation'], prefix=['code_module', 'code_presentation'])\n",
    "# Merge the student information data with the original DataFrame\n",
    "demopref_data = pd.merge(loaded_data, added_features, on=['id_student', 'code_presentation_2013B','code_presentation_2013J','code_presentation_2014B','code_presentation_2014J', 'code_module_AAA','code_module_BBB','code_module_CCC','code_module_DDD','code_module_EEE','code_module_FFF','code_module_GGG' ] )\n",
    "\n",
    "# Drop the irrelevant columns\n",
    "demopref_data.drop(['sum_click', 'id_site'], axis=1, inplace=True)\n",
    "demopref_data = pd.get_dummies(demopref_data, columns=['final_result'], prefix='final_result')\n",
    "demopref_data['id_student'] = demopref_data['id_student'].astype(int)\n",
    "demopref_data['id_assessment'] = demopref_data['id_assessment'].astype(int)"
   ]
  },
  {
   "cell_type": "markdown",
   "metadata": {
    "collapsed": false
   },
   "source": [
    "THIS WAS THE CODE TO GENERATE THE USER_ITEM_MATRIX"
   ]
  },
  {
   "cell_type": "code",
   "execution_count": null,
   "metadata": {
    "collapsed": false
   },
   "outputs": [],
   "source": [
    "user_item_matrix = pd.pivot_table(U_I_merged_df, values='sum_click', index='id_student', columns='id_site', aggfunc='sum', fill_value=0)"
   ]
  },
  {
   "cell_type": "code",
   "execution_count": null,
   "metadata": {},
   "outputs": [],
   "source": [
    "# Predict on the data to get the clusters\n",
    "# Select the features to be used for clustering (demopref_data already has a cluster_label column)\n",
    "##cluster_features = ['num_of_prev_attempts', 'id_assessment', 'date_submitted', 'is_banked', 'score', 'imd_band', 'studied_credits', 'final_result_Distinction', 'final_result_Fail', 'final_result_Pass', 'final_result_Withdrawn', 'code_module_AAA', 'code_module_BBB', 'code_module_CCC', 'code_module_DDD', 'code_module_EEE', 'code_module_FFF', 'code_module_GGG', 'code_presentation_2013B', 'code_presentation_2013J', 'code_presentation_2014B', 'code_presentation_2014J', 'gender_F', 'gender_M', 'region_East Anglian Region', 'region_East Midlands Region', 'region_Ireland', 'region_London Region', 'region_North Region', 'region_North Western Region', 'region_Scotland', 'region_South East Region', 'region_South Region', 'region_South West Region', 'region_Wales', 'region_West Midlands Region', 'region_Yorkshire Region', 'highest_education_A Level or Equivalent', 'highest_education_HE Qualification', 'highest_education_Lower Than A Level', 'highest_education_No Formal quals', 'highest_education_Post Graduate Qualification', 'age_band_0-35', 'age_band_35-55', 'age_band_55<=', 'disability_N', 'disability_Y']\n",
    "##\n",
    "### cluster_data = demopref_data[cluster_features].copy()\n",
    "##\n",
    "### Perform clustering\n",
    "##clusters = kmeans.predict(demopref_data[cluster_features])\n",
    "##\n",
    "### Add the cluster labels as a new column to the original dataframe\n",
    "##demopref_data['cluster_label'] = clusters"
   ]
  }
 ],
 "metadata": {
  "kernelspec": {
   "display_name": "Python 3",
   "language": "python",
   "name": "python3"
  },
  "language_info": {
   "codemirror_mode": {
    "name": "ipython",
    "version": 3
   },
   "file_extension": ".py",
   "mimetype": "text/x-python",
   "name": "python",
   "nbconvert_exporter": "python",
   "pygments_lexer": "ipython3",
   "version": "3.11.0"
  }
 },
 "nbformat": 4,
 "nbformat_minor": 0
}
