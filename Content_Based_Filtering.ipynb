{
 "cells": [
  {
   "cell_type": "markdown",
   "source": [
    "We're going to use the Pluralsight courses dataset"
   ],
   "metadata": {
    "collapsed": false
   }
  },
  {
   "cell_type": "code",
   "execution_count": 2,
   "metadata": {
    "collapsed": true
   },
   "outputs": [],
   "source": [
    "import pandas as pd\n",
    "\n",
    "content_df = pd.read_csv('pluralsight_courses.csv')"
   ]
  },
  {
   "cell_type": "markdown",
   "source": [],
   "metadata": {
    "collapsed": false
   }
  },
  {
   "cell_type": "code",
   "execution_count": 5,
   "outputs": [
    {
     "data": {
      "text/plain": "                            CourseId  \\\n0               abts-advanced-topics   \n1                  abts-fundamentals   \n2   agile-team-practice-fundamentals   \n3                appsrv-fundamentals   \n4          aspdotnet-advanced-topics   \n..                               ...   \n95                  intro-sql-server   \n96                          ssrs-adv   \n97              jscript-fundamentals   \n98                          wp7-core   \n99               wpf-whats-new-in-v4   \n\n                                 CourseTitle  \\\n0   BizTalk 2006 Business Process Management   \n1                  BizTalk 2006 Fundamentals   \n2            Agile Team Practices with Scrum   \n3      Windows Server AppFabric Fundamentals   \n4                ASP.NET 3.5 Advanced Topics   \n..                                       ...   \n95                Introduction to SQL Server   \n96        Reporting Services Advanced Topics   \n97                   JavaScript Fundamentals   \n98          Core Windows Phone 7 Development   \n99                        What's new WPF 4.0   \n\n                                          Description  \n0   This course covers Business Process Management...  \n1   Despite the trend towards service-oriented arc...  \n2   This course is much different than most of the...  \n3                                                 NaN  \n4   This course covers more advanced topics in ASP...  \n..                                                ...  \n95  This course starts with a high level introduct...  \n96  This course covers advanced topics in Reportin...  \n97  This course introduces JavaScript by examining...  \n98  This course will introduce you to core concept...  \n99  WPF V4 includes various new features and contr...  \n\n[100 rows x 3 columns]",
      "text/html": "<div>\n<style scoped>\n    .dataframe tbody tr th:only-of-type {\n        vertical-align: middle;\n    }\n\n    .dataframe tbody tr th {\n        vertical-align: top;\n    }\n\n    .dataframe thead th {\n        text-align: right;\n    }\n</style>\n<table border=\"1\" class=\"dataframe\">\n  <thead>\n    <tr style=\"text-align: right;\">\n      <th></th>\n      <th>CourseId</th>\n      <th>CourseTitle</th>\n      <th>Description</th>\n    </tr>\n  </thead>\n  <tbody>\n    <tr>\n      <th>0</th>\n      <td>abts-advanced-topics</td>\n      <td>BizTalk 2006 Business Process Management</td>\n      <td>This course covers Business Process Management...</td>\n    </tr>\n    <tr>\n      <th>1</th>\n      <td>abts-fundamentals</td>\n      <td>BizTalk 2006 Fundamentals</td>\n      <td>Despite the trend towards service-oriented arc...</td>\n    </tr>\n    <tr>\n      <th>2</th>\n      <td>agile-team-practice-fundamentals</td>\n      <td>Agile Team Practices with Scrum</td>\n      <td>This course is much different than most of the...</td>\n    </tr>\n    <tr>\n      <th>3</th>\n      <td>appsrv-fundamentals</td>\n      <td>Windows Server AppFabric Fundamentals</td>\n      <td>NaN</td>\n    </tr>\n    <tr>\n      <th>4</th>\n      <td>aspdotnet-advanced-topics</td>\n      <td>ASP.NET 3.5 Advanced Topics</td>\n      <td>This course covers more advanced topics in ASP...</td>\n    </tr>\n    <tr>\n      <th>...</th>\n      <td>...</td>\n      <td>...</td>\n      <td>...</td>\n    </tr>\n    <tr>\n      <th>95</th>\n      <td>intro-sql-server</td>\n      <td>Introduction to SQL Server</td>\n      <td>This course starts with a high level introduct...</td>\n    </tr>\n    <tr>\n      <th>96</th>\n      <td>ssrs-adv</td>\n      <td>Reporting Services Advanced Topics</td>\n      <td>This course covers advanced topics in Reportin...</td>\n    </tr>\n    <tr>\n      <th>97</th>\n      <td>jscript-fundamentals</td>\n      <td>JavaScript Fundamentals</td>\n      <td>This course introduces JavaScript by examining...</td>\n    </tr>\n    <tr>\n      <th>98</th>\n      <td>wp7-core</td>\n      <td>Core Windows Phone 7 Development</td>\n      <td>This course will introduce you to core concept...</td>\n    </tr>\n    <tr>\n      <th>99</th>\n      <td>wpf-whats-new-in-v4</td>\n      <td>What's new WPF 4.0</td>\n      <td>WPF V4 includes various new features and contr...</td>\n    </tr>\n  </tbody>\n</table>\n<p>100 rows × 3 columns</p>\n</div>"
     },
     "execution_count": 5,
     "metadata": {},
     "output_type": "execute_result"
    }
   ],
   "source": [
    "text_data_df = content_df[['CourseId','CourseTitle','Description']]\n",
    "text_data_df.head(100)\n"
   ],
   "metadata": {
    "collapsed": false
   }
  },
  {
   "cell_type": "code",
   "execution_count": 6,
   "outputs": [
    {
     "name": "stdout",
     "output_type": "stream",
     "text": [
      "CourseId             0\n",
      "CourseTitle          0\n",
      "DurationInSeconds    0\n",
      "ReleaseDate          0\n",
      "Description          5\n",
      "AssessmentStatus     0\n",
      "IsCourseRetired      0\n",
      "dtype: int64\n"
     ]
    }
   ],
   "source": [
    "missing_values = content_df.isnull().sum()\n",
    "print(missing_values)"
   ],
   "metadata": {
    "collapsed": false
   }
  },
  {
   "cell_type": "code",
   "execution_count": 8,
   "outputs": [
    {
     "name": "stdout",
     "output_type": "stream",
     "text": [
      "CourseId             0\n",
      "CourseTitle          0\n",
      "DurationInSeconds    0\n",
      "ReleaseDate          0\n",
      "Description          0\n",
      "AssessmentStatus     0\n",
      "IsCourseRetired      0\n",
      "dtype: int64\n"
     ]
    }
   ],
   "source": [
    "content_df.dropna(subset=['Description'], inplace=True)\n",
    "missing_values = content_df.isnull().sum()\n",
    "print(missing_values)"
   ],
   "metadata": {
    "collapsed": false
   }
  }
 ],
 "metadata": {
  "kernelspec": {
   "display_name": "Python 3",
   "language": "python",
   "name": "python3"
  },
  "language_info": {
   "codemirror_mode": {
    "name": "ipython",
    "version": 2
   },
   "file_extension": ".py",
   "mimetype": "text/x-python",
   "name": "python",
   "nbconvert_exporter": "python",
   "pygments_lexer": "ipython2",
   "version": "2.7.6"
  }
 },
 "nbformat": 4,
 "nbformat_minor": 0
}
