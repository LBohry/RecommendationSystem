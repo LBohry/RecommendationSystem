{
 "cells": [
  {
   "cell_type": "markdown",
   "source": [
    "We're going to use the Pluralsight courses dataset"
   ],
   "metadata": {
    "collapsed": false
   }
  },
  {
   "cell_type": "code",
   "execution_count": 2,
   "metadata": {
    "collapsed": true
   },
   "outputs": [],
   "source": [
    "import pandas as pd\n",
    "\n",
    "content_df = pd.read_csv('pluralsight_courses.csv')"
   ]
  },
  {
   "cell_type": "markdown",
   "source": [],
   "metadata": {
    "collapsed": false
   }
  },
  {
   "cell_type": "code",
   "execution_count": 5,
   "outputs": [
    {
     "data": {
      "text/plain": "                            CourseId  \\\n0               abts-advanced-topics   \n1                  abts-fundamentals   \n2   agile-team-practice-fundamentals   \n3                appsrv-fundamentals   \n4          aspdotnet-advanced-topics   \n..                               ...   \n95                  intro-sql-server   \n96                          ssrs-adv   \n97              jscript-fundamentals   \n98                          wp7-core   \n99               wpf-whats-new-in-v4   \n\n                                 CourseTitle  \\\n0   BizTalk 2006 Business Process Management   \n1                  BizTalk 2006 Fundamentals   \n2            Agile Team Practices with Scrum   \n3      Windows Server AppFabric Fundamentals   \n4                ASP.NET 3.5 Advanced Topics   \n..                                       ...   \n95                Introduction to SQL Server   \n96        Reporting Services Advanced Topics   \n97                   JavaScript Fundamentals   \n98          Core Windows Phone 7 Development   \n99                        What's new WPF 4.0   \n\n                                          Description  \n0   This course covers Business Process Management...  \n1   Despite the trend towards service-oriented arc...  \n2   This course is much different than most of the...  \n3                                                 NaN  \n4   This course covers more advanced topics in ASP...  \n..                                                ...  \n95  This course starts with a high level introduct...  \n96  This course covers advanced topics in Reportin...  \n97  This course introduces JavaScript by examining...  \n98  This course will introduce you to core concept...  \n99  WPF V4 includes various new features and contr...  \n\n[100 rows x 3 columns]",
      "text/html": "<div>\n<style scoped>\n    .dataframe tbody tr th:only-of-type {\n        vertical-align: middle;\n    }\n\n    .dataframe tbody tr th {\n        vertical-align: top;\n    }\n\n    .dataframe thead th {\n        text-align: right;\n    }\n</style>\n<table border=\"1\" class=\"dataframe\">\n  <thead>\n    <tr style=\"text-align: right;\">\n      <th></th>\n      <th>CourseId</th>\n      <th>CourseTitle</th>\n      <th>Description</th>\n    </tr>\n  </thead>\n  <tbody>\n    <tr>\n      <th>0</th>\n      <td>abts-advanced-topics</td>\n      <td>BizTalk 2006 Business Process Management</td>\n      <td>This course covers Business Process Management...</td>\n    </tr>\n    <tr>\n      <th>1</th>\n      <td>abts-fundamentals</td>\n      <td>BizTalk 2006 Fundamentals</td>\n      <td>Despite the trend towards service-oriented arc...</td>\n    </tr>\n    <tr>\n      <th>2</th>\n      <td>agile-team-practice-fundamentals</td>\n      <td>Agile Team Practices with Scrum</td>\n      <td>This course is much different than most of the...</td>\n    </tr>\n    <tr>\n      <th>3</th>\n      <td>appsrv-fundamentals</td>\n      <td>Windows Server AppFabric Fundamentals</td>\n      <td>NaN</td>\n    </tr>\n    <tr>\n      <th>4</th>\n      <td>aspdotnet-advanced-topics</td>\n      <td>ASP.NET 3.5 Advanced Topics</td>\n      <td>This course covers more advanced topics in ASP...</td>\n    </tr>\n    <tr>\n      <th>...</th>\n      <td>...</td>\n      <td>...</td>\n      <td>...</td>\n    </tr>\n    <tr>\n      <th>95</th>\n      <td>intro-sql-server</td>\n      <td>Introduction to SQL Server</td>\n      <td>This course starts with a high level introduct...</td>\n    </tr>\n    <tr>\n      <th>96</th>\n      <td>ssrs-adv</td>\n      <td>Reporting Services Advanced Topics</td>\n      <td>This course covers advanced topics in Reportin...</td>\n    </tr>\n    <tr>\n      <th>97</th>\n      <td>jscript-fundamentals</td>\n      <td>JavaScript Fundamentals</td>\n      <td>This course introduces JavaScript by examining...</td>\n    </tr>\n    <tr>\n      <th>98</th>\n      <td>wp7-core</td>\n      <td>Core Windows Phone 7 Development</td>\n      <td>This course will introduce you to core concept...</td>\n    </tr>\n    <tr>\n      <th>99</th>\n      <td>wpf-whats-new-in-v4</td>\n      <td>What's new WPF 4.0</td>\n      <td>WPF V4 includes various new features and contr...</td>\n    </tr>\n  </tbody>\n</table>\n<p>100 rows × 3 columns</p>\n</div>"
     },
     "execution_count": 5,
     "metadata": {},
     "output_type": "execute_result"
    }
   ],
   "source": [
    "text_data_df = content_df[['CourseId','CourseTitle','Description']]\n",
    "text_data_df.head(100)\n"
   ],
   "metadata": {
    "collapsed": false
   }
  },
  {
   "cell_type": "code",
   "execution_count": 6,
   "outputs": [
    {
     "name": "stdout",
     "output_type": "stream",
     "text": [
      "CourseId             0\n",
      "CourseTitle          0\n",
      "DurationInSeconds    0\n",
      "ReleaseDate          0\n",
      "Description          5\n",
      "AssessmentStatus     0\n",
      "IsCourseRetired      0\n",
      "dtype: int64\n"
     ]
    }
   ],
   "source": [
    "missing_values = content_df.isnull().sum()\n",
    "print(missing_values)"
   ],
   "metadata": {
    "collapsed": false
   }
  },
  {
   "cell_type": "code",
   "execution_count": 22,
   "outputs": [
    {
     "name": "stdout",
     "output_type": "stream",
     "text": [
      "CourseId                  0\n",
      "CourseTitle               0\n",
      "Description               0\n",
      "CourseTitle_Lowercased    0\n",
      "Description_Lowercased    0\n",
      "dtype: int64\n"
     ]
    },
    {
     "name": "stderr",
     "output_type": "stream",
     "text": [
      "C:\\Users\\Abirr\\AppData\\Local\\Temp\\ipykernel_21360\\3695883215.py:1: SettingWithCopyWarning: \n",
      "A value is trying to be set on a copy of a slice from a DataFrame\n",
      "\n",
      "See the caveats in the documentation: https://pandas.pydata.org/pandas-docs/stable/user_guide/indexing.html#returning-a-view-versus-a-copy\n",
      "  text_data_df.dropna(subset=['Description'], inplace=True)\n"
     ]
    }
   ],
   "source": [
    "text_data_df.dropna(subset=['Description'], inplace=True)\n",
    "missing_values = text_data_df.isnull().sum()\n",
    "print(missing_values)"
   ],
   "metadata": {
    "collapsed": false
   }
  },
  {
   "cell_type": "markdown",
   "source": [
    "Lowercasing the data"
   ],
   "metadata": {
    "collapsed": false
   }
  },
  {
   "cell_type": "code",
   "execution_count": 14,
   "outputs": [
    {
     "name": "stderr",
     "output_type": "stream",
     "text": [
      "C:\\Users\\Abirr\\AppData\\Local\\Temp\\ipykernel_21360\\3278931384.py:1: SettingWithCopyWarning: \n",
      "A value is trying to be set on a copy of a slice from a DataFrame.\n",
      "Try using .loc[row_indexer,col_indexer] = value instead\n",
      "\n",
      "See the caveats in the documentation: https://pandas.pydata.org/pandas-docs/stable/user_guide/indexing.html#returning-a-view-versus-a-copy\n",
      "  text_data_df['CourseTitle_Lowercased'] = content_df['CourseTitle'].str.lower()\n",
      "C:\\Users\\Abirr\\AppData\\Local\\Temp\\ipykernel_21360\\3278931384.py:2: SettingWithCopyWarning: \n",
      "A value is trying to be set on a copy of a slice from a DataFrame.\n",
      "Try using .loc[row_indexer,col_indexer] = value instead\n",
      "\n",
      "See the caveats in the documentation: https://pandas.pydata.org/pandas-docs/stable/user_guide/indexing.html#returning-a-view-versus-a-copy\n",
      "  text_data_df['Description_Lowercased'] = content_df['Description'].str.lower()\n"
     ]
    }
   ],
   "source": [
    "text_data_df['CourseTitle_Lowercased'] = content_df['CourseTitle'].str.lower()\n",
    "text_data_df['Description_Lowercased'] = content_df['Description'].str.lower()"
   ],
   "metadata": {
    "collapsed": false
   }
  },
  {
   "cell_type": "code",
   "execution_count": 24,
   "outputs": [
    {
     "name": "stdout",
     "output_type": "stream",
     "text": [
      "CourseId                  0\n",
      "CourseTitle               0\n",
      "Description               0\n",
      "CourseTitle_Lowercased    0\n",
      "Description_Lowercased    0\n",
      "dtype: int64\n"
     ]
    }
   ],
   "source": [
    "text_data_df.head()\n",
    "missing_values = text_data_df.isnull().sum()\n",
    "print(missing_values)"
   ],
   "metadata": {
    "collapsed": false
   }
  },
  {
   "cell_type": "markdown",
   "source": [
    "Tokenization"
   ],
   "metadata": {
    "collapsed": false
   }
  },
  {
   "cell_type": "code",
   "execution_count": 27,
   "outputs": [
    {
     "name": "stderr",
     "output_type": "stream",
     "text": [
      "[nltk_data] Downloading package punkt to\n",
      "[nltk_data]     C:\\Users\\Abirr\\AppData\\Roaming\\nltk_data...\n",
      "[nltk_data]   Package punkt is already up-to-date!\n"
     ]
    }
   ],
   "source": [
    "import nltk\n",
    "nltk.download('punkt')\n",
    "from nltk.tokenize import word_tokenize\n",
    "\n",
    "text_data_df['CourseTitle_tokens'] = text_data_df['CourseTitle_Lowercased'].apply(word_tokenize)\n",
    "text_data_df['Description_tokens'] = text_data_df['Description_Lowercased'].apply(word_tokenize)"
   ],
   "metadata": {
    "collapsed": false
   }
  },
  {
   "cell_type": "code",
   "execution_count": null,
   "outputs": [],
   "source": [
    "text_data_df.head()"
   ],
   "metadata": {
    "collapsed": false,
    "pycharm": {
     "is_executing": true
    }
   }
  },
  {
   "cell_type": "markdown",
   "source": [
    "Filtering stop words"
   ],
   "metadata": {
    "collapsed": false
   }
  },
  {
   "cell_type": "code",
   "execution_count": 30,
   "outputs": [
    {
     "name": "stderr",
     "output_type": "stream",
     "text": [
      "[nltk_data] Downloading package stopwords to\n",
      "[nltk_data]     C:\\Users\\Abirr\\AppData\\Roaming\\nltk_data...\n",
      "[nltk_data]   Unzipping corpora\\stopwords.zip.\n"
     ]
    }
   ],
   "source": [
    "from nltk.corpus import stopwords\n",
    "nltk.download('stopwords')\n",
    "stop_words = set(stopwords.words('english'))\n",
    "\n",
    "text_data_df['CourseTitle_noStop'] = text_data_df['CourseTitle_tokens'].apply(lambda x: [word for word in x if word not in stop_words])\n",
    "text_data_df['Description_noStop'] = text_data_df['Description_tokens'].apply(lambda x: [word for word in x if word not in stop_words])"
   ],
   "metadata": {
    "collapsed": false
   }
  },
  {
   "cell_type": "markdown",
   "source": [
    "Lemmatization"
   ],
   "metadata": {
    "collapsed": false
   }
  },
  {
   "cell_type": "code",
   "execution_count": 33,
   "outputs": [
    {
     "name": "stderr",
     "output_type": "stream",
     "text": [
      "[nltk_data] Downloading package wordnet to\n",
      "[nltk_data]     C:\\Users\\Abirr\\AppData\\Roaming\\nltk_data...\n",
      "[nltk_data]   Package wordnet is already up-to-date!\n",
      "[nltk_data] Downloading package omw-1.4 to\n",
      "[nltk_data]     C:\\Users\\Abirr\\AppData\\Roaming\\nltk_data...\n"
     ]
    }
   ],
   "source": [
    "from nltk.stem import WordNetLemmatizer\n",
    "nltk.download('wordnet')\n",
    "nltk.download('omw-1.4')\n",
    "lemmatizer = WordNetLemmatizer()\n",
    "text_data_df['CourseTitle_lemmatized'] = text_data_df['CourseTitle_noStop'].apply(lambda x: [lemmatizer.lemmatize(word) for word in x])\n",
    "text_data_df['Description_lemmatized'] = text_data_df['Description_noStop'].apply(lambda x: [lemmatizer.lemmatize(word) for word in x])"
   ],
   "metadata": {
    "collapsed": false
   }
  },
  {
   "cell_type": "code",
   "execution_count": 34,
   "outputs": [
    {
     "data": {
      "text/plain": "                           CourseId                               CourseTitle  \\\n0              abts-advanced-topics  BizTalk 2006 Business Process Management   \n1                 abts-fundamentals                 BizTalk 2006 Fundamentals   \n2  agile-team-practice-fundamentals           Agile Team Practices with Scrum   \n4         aspdotnet-advanced-topics               ASP.NET 3.5 Advanced Topics   \n5    aspdotnet-ajax-advanced-topics              ASP.NET Ajax Advanced Topics   \n\n                                         Description  \\\n0  This course covers Business Process Management...   \n1  Despite the trend towards service-oriented arc...   \n2  This course is much different than most of the...   \n4  This course covers more advanced topics in ASP...   \n5  This course covers advanced topics in ASP.NET ...   \n\n                     CourseTitle_Lowercased  \\\n0  biztalk 2006 business process management   \n1                 biztalk 2006 fundamentals   \n2           agile team practices with scrum   \n4               asp.net 3.5 advanced topics   \n5              asp.net ajax advanced topics   \n\n                              Description_Lowercased  \\\n0  this course covers business process management...   \n1  despite the trend towards service-oriented arc...   \n2  this course is much different than most of the...   \n4  this course covers more advanced topics in asp...   \n5  this course covers advanced topics in asp.net ...   \n\n                                     title_tokens  \\\n0  [biztalk, 2006, business, process, management]   \n1                   [biztalk, 2006, fundamentals]   \n2           [agile, team, practices, with, scrum]   \n4                [asp.net, 3.5, advanced, topics]   \n5               [asp.net, ajax, advanced, topics]   \n\n                                         desc_tokens  \\\n0  [this, course, covers, business, process, mana...   \n1  [despite, the, trend, towards, service-oriente...   \n2  [this, course, is, much, different, than, most...   \n4  [this, course, covers, more, advanced, topics,...   \n5  [this, course, covers, advanced, topics, in, a...   \n\n                               CourseTitle_tokens  \\\n0  [biztalk, 2006, business, process, management]   \n1                   [biztalk, 2006, fundamentals]   \n2           [agile, team, practices, with, scrum]   \n4                [asp.net, 3.5, advanced, topics]   \n5               [asp.net, ajax, advanced, topics]   \n\n                                  Description_tokens  \\\n0  [this, course, covers, business, process, mana...   \n1  [despite, the, trend, towards, service-oriente...   \n2  [this, course, is, much, different, than, most...   \n4  [this, course, covers, more, advanced, topics,...   \n5  [this, course, covers, advanced, topics, in, a...   \n\n                               CourseTitle_noStop  \\\n0  [biztalk, 2006, business, process, management]   \n1                   [biztalk, 2006, fundamentals]   \n2                 [agile, team, practices, scrum]   \n4                [asp.net, 3.5, advanced, topics]   \n5               [asp.net, ajax, advanced, topics]   \n\n                                  Description_noStop  \\\n0  [course, covers, business, process, management...   \n1  [despite, trend, towards, service-oriented, ar...   \n2  [course, much, different, courses, pluralsight...   \n4  [course, covers, advanced, topics, asp.net, 3....   \n5  [course, covers, advanced, topics, asp.net, aj...   \n\n                           CourseTitle_lemmatized  \\\n0  [biztalk, 2006, business, process, management]   \n1                    [biztalk, 2006, fundamental]   \n2                  [agile, team, practice, scrum]   \n4                 [asp.net, 3.5, advanced, topic]   \n5                [asp.net, ajax, advanced, topic]   \n\n                              Description_lemmatized  \n0  [course, cover, business, process, management,...  \n1  [despite, trend, towards, service-oriented, ar...  \n2  [course, much, different, course, pluralsight,...  \n4  [course, cover, advanced, topic, asp.net, 3.5,...  \n5  [course, cover, advanced, topic, asp.net, ajax...  ",
      "text/html": "<div>\n<style scoped>\n    .dataframe tbody tr th:only-of-type {\n        vertical-align: middle;\n    }\n\n    .dataframe tbody tr th {\n        vertical-align: top;\n    }\n\n    .dataframe thead th {\n        text-align: right;\n    }\n</style>\n<table border=\"1\" class=\"dataframe\">\n  <thead>\n    <tr style=\"text-align: right;\">\n      <th></th>\n      <th>CourseId</th>\n      <th>CourseTitle</th>\n      <th>Description</th>\n      <th>CourseTitle_Lowercased</th>\n      <th>Description_Lowercased</th>\n      <th>title_tokens</th>\n      <th>desc_tokens</th>\n      <th>CourseTitle_tokens</th>\n      <th>Description_tokens</th>\n      <th>CourseTitle_noStop</th>\n      <th>Description_noStop</th>\n      <th>CourseTitle_lemmatized</th>\n      <th>Description_lemmatized</th>\n    </tr>\n  </thead>\n  <tbody>\n    <tr>\n      <th>0</th>\n      <td>abts-advanced-topics</td>\n      <td>BizTalk 2006 Business Process Management</td>\n      <td>This course covers Business Process Management...</td>\n      <td>biztalk 2006 business process management</td>\n      <td>this course covers business process management...</td>\n      <td>[biztalk, 2006, business, process, management]</td>\n      <td>[this, course, covers, business, process, mana...</td>\n      <td>[biztalk, 2006, business, process, management]</td>\n      <td>[this, course, covers, business, process, mana...</td>\n      <td>[biztalk, 2006, business, process, management]</td>\n      <td>[course, covers, business, process, management...</td>\n      <td>[biztalk, 2006, business, process, management]</td>\n      <td>[course, cover, business, process, management,...</td>\n    </tr>\n    <tr>\n      <th>1</th>\n      <td>abts-fundamentals</td>\n      <td>BizTalk 2006 Fundamentals</td>\n      <td>Despite the trend towards service-oriented arc...</td>\n      <td>biztalk 2006 fundamentals</td>\n      <td>despite the trend towards service-oriented arc...</td>\n      <td>[biztalk, 2006, fundamentals]</td>\n      <td>[despite, the, trend, towards, service-oriente...</td>\n      <td>[biztalk, 2006, fundamentals]</td>\n      <td>[despite, the, trend, towards, service-oriente...</td>\n      <td>[biztalk, 2006, fundamentals]</td>\n      <td>[despite, trend, towards, service-oriented, ar...</td>\n      <td>[biztalk, 2006, fundamental]</td>\n      <td>[despite, trend, towards, service-oriented, ar...</td>\n    </tr>\n    <tr>\n      <th>2</th>\n      <td>agile-team-practice-fundamentals</td>\n      <td>Agile Team Practices with Scrum</td>\n      <td>This course is much different than most of the...</td>\n      <td>agile team practices with scrum</td>\n      <td>this course is much different than most of the...</td>\n      <td>[agile, team, practices, with, scrum]</td>\n      <td>[this, course, is, much, different, than, most...</td>\n      <td>[agile, team, practices, with, scrum]</td>\n      <td>[this, course, is, much, different, than, most...</td>\n      <td>[agile, team, practices, scrum]</td>\n      <td>[course, much, different, courses, pluralsight...</td>\n      <td>[agile, team, practice, scrum]</td>\n      <td>[course, much, different, course, pluralsight,...</td>\n    </tr>\n    <tr>\n      <th>4</th>\n      <td>aspdotnet-advanced-topics</td>\n      <td>ASP.NET 3.5 Advanced Topics</td>\n      <td>This course covers more advanced topics in ASP...</td>\n      <td>asp.net 3.5 advanced topics</td>\n      <td>this course covers more advanced topics in asp...</td>\n      <td>[asp.net, 3.5, advanced, topics]</td>\n      <td>[this, course, covers, more, advanced, topics,...</td>\n      <td>[asp.net, 3.5, advanced, topics]</td>\n      <td>[this, course, covers, more, advanced, topics,...</td>\n      <td>[asp.net, 3.5, advanced, topics]</td>\n      <td>[course, covers, advanced, topics, asp.net, 3....</td>\n      <td>[asp.net, 3.5, advanced, topic]</td>\n      <td>[course, cover, advanced, topic, asp.net, 3.5,...</td>\n    </tr>\n    <tr>\n      <th>5</th>\n      <td>aspdotnet-ajax-advanced-topics</td>\n      <td>ASP.NET Ajax Advanced Topics</td>\n      <td>This course covers advanced topics in ASP.NET ...</td>\n      <td>asp.net ajax advanced topics</td>\n      <td>this course covers advanced topics in asp.net ...</td>\n      <td>[asp.net, ajax, advanced, topics]</td>\n      <td>[this, course, covers, advanced, topics, in, a...</td>\n      <td>[asp.net, ajax, advanced, topics]</td>\n      <td>[this, course, covers, advanced, topics, in, a...</td>\n      <td>[asp.net, ajax, advanced, topics]</td>\n      <td>[course, covers, advanced, topics, asp.net, aj...</td>\n      <td>[asp.net, ajax, advanced, topic]</td>\n      <td>[course, cover, advanced, topic, asp.net, ajax...</td>\n    </tr>\n  </tbody>\n</table>\n</div>"
     },
     "execution_count": 34,
     "metadata": {},
     "output_type": "execute_result"
    }
   ],
   "source": [
    "text_data_df.head()"
   ],
   "metadata": {
    "collapsed": false
   }
  },
  {
   "cell_type": "markdown",
   "source": [
    "Preprocessed Data"
   ],
   "metadata": {
    "collapsed": false
   }
  },
  {
   "cell_type": "code",
   "execution_count": 36,
   "outputs": [
    {
     "data": {
      "text/plain": "                           CourseId  \\\n0              abts-advanced-topics   \n1                 abts-fundamentals   \n2  agile-team-practice-fundamentals   \n4         aspdotnet-advanced-topics   \n5    aspdotnet-ajax-advanced-topics   \n\n                           CourseTitle_lemmatized  \\\n0  [biztalk, 2006, business, process, management]   \n1                    [biztalk, 2006, fundamental]   \n2                  [agile, team, practice, scrum]   \n4                 [asp.net, 3.5, advanced, topic]   \n5                [asp.net, ajax, advanced, topic]   \n\n                              Description_lemmatized  \n0  [course, cover, business, process, management,...  \n1  [despite, trend, towards, service-oriented, ar...  \n2  [course, much, different, course, pluralsight,...  \n4  [course, cover, advanced, topic, asp.net, 3.5,...  \n5  [course, cover, advanced, topic, asp.net, ajax...  ",
      "text/html": "<div>\n<style scoped>\n    .dataframe tbody tr th:only-of-type {\n        vertical-align: middle;\n    }\n\n    .dataframe tbody tr th {\n        vertical-align: top;\n    }\n\n    .dataframe thead th {\n        text-align: right;\n    }\n</style>\n<table border=\"1\" class=\"dataframe\">\n  <thead>\n    <tr style=\"text-align: right;\">\n      <th></th>\n      <th>CourseId</th>\n      <th>CourseTitle_lemmatized</th>\n      <th>Description_lemmatized</th>\n    </tr>\n  </thead>\n  <tbody>\n    <tr>\n      <th>0</th>\n      <td>abts-advanced-topics</td>\n      <td>[biztalk, 2006, business, process, management]</td>\n      <td>[course, cover, business, process, management,...</td>\n    </tr>\n    <tr>\n      <th>1</th>\n      <td>abts-fundamentals</td>\n      <td>[biztalk, 2006, fundamental]</td>\n      <td>[despite, trend, towards, service-oriented, ar...</td>\n    </tr>\n    <tr>\n      <th>2</th>\n      <td>agile-team-practice-fundamentals</td>\n      <td>[agile, team, practice, scrum]</td>\n      <td>[course, much, different, course, pluralsight,...</td>\n    </tr>\n    <tr>\n      <th>4</th>\n      <td>aspdotnet-advanced-topics</td>\n      <td>[asp.net, 3.5, advanced, topic]</td>\n      <td>[course, cover, advanced, topic, asp.net, 3.5,...</td>\n    </tr>\n    <tr>\n      <th>5</th>\n      <td>aspdotnet-ajax-advanced-topics</td>\n      <td>[asp.net, ajax, advanced, topic]</td>\n      <td>[course, cover, advanced, topic, asp.net, ajax...</td>\n    </tr>\n  </tbody>\n</table>\n</div>"
     },
     "execution_count": 36,
     "metadata": {},
     "output_type": "execute_result"
    }
   ],
   "source": [
    "preprocessed_df = text_data_df[['CourseId','CourseTitle_lemmatized','Description_lemmatized']]\n",
    "preprocessed_df.head()"
   ],
   "metadata": {
    "collapsed": false
   }
  }
 ],
 "metadata": {
  "kernelspec": {
   "display_name": "Python 3",
   "language": "python",
   "name": "python3"
  },
  "language_info": {
   "codemirror_mode": {
    "name": "ipython",
    "version": 2
   },
   "file_extension": ".py",
   "mimetype": "text/x-python",
   "name": "python",
   "nbconvert_exporter": "python",
   "pygments_lexer": "ipython2",
   "version": "2.7.6"
  }
 },
 "nbformat": 4,
 "nbformat_minor": 0
}
