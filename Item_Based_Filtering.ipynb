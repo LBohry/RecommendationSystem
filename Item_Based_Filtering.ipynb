{
 "cells": [
  {
   "cell_type": "code",
   "execution_count": 3,
   "metadata": {
    "collapsed": false
   },
   "outputs": [
    {
     "name": "stdout",
     "output_type": "stream",
     "text": [
      "Collecting implicit\n",
      "  Downloading implicit-0.6.2-cp39-cp39-win_amd64.whl (647 kB)\n",
      "     ------------------------------------ 647.2/647.2 kB 715.7 kB/s eta 0:00:00\n",
      "Requirement already satisfied: numpy in c:\\users\\abirr\\anaconda3\\lib\\site-packages (from implicit) (1.21.5)\n",
      "Requirement already satisfied: tqdm>=4.27 in c:\\users\\abirr\\anaconda3\\lib\\site-packages (from implicit) (4.64.1)\n",
      "Requirement already satisfied: scipy>=0.16 in c:\\users\\abirr\\anaconda3\\lib\\site-packages (from implicit) (1.9.1)\n",
      "Requirement already satisfied: colorama in c:\\users\\abirr\\anaconda3\\lib\\site-packages (from tqdm>=4.27->implicit) (0.4.5)\n",
      "Installing collected packages: implicit\n",
      "Successfully installed implicit-0.6.2\n"
     ]
    }
   ],
   "source": [
    "!pip install implicit"
   ]
  },
  {
   "cell_type": "code",
   "execution_count": 1,
   "metadata": {},
   "outputs": [],
   "source": [
    "import pandas as pd\n",
    "import numpy as np\n",
    "from sklearn.model_selection import train_test_split\n",
    "from implicit.bpr import BayesianPersonalizedRanking\n",
    "from sklearn.preprocessing import OneHotEncoder\n"
   ]
  },
  {
   "cell_type": "code",
   "execution_count": 2,
   "metadata": {
    "collapsed": false
   },
   "outputs": [],
   "source": [
    "\n",
    "student_info = pd.read_csv('studentInfo.csv')\n",
    "student_enrollments = student_info[['id_student', 'code_module']]\n"
   ]
  },
  {
   "cell_type": "code",
   "execution_count": 3,
   "metadata": {
    "collapsed": false
   },
   "outputs": [
    {
     "name": "stdout",
     "output_type": "stream",
     "text": [
      "       id_student code_module\n",
      "0           11391         AAA\n",
      "1           28400         AAA\n",
      "2           30268         AAA\n",
      "3           31604         AAA\n",
      "4           32885         AAA\n",
      "...           ...         ...\n",
      "32588     2640965         GGG\n",
      "32589     2645731         GGG\n",
      "32590     2648187         GGG\n",
      "32591     2679821         GGG\n",
      "32592     2684003         GGG\n",
      "\n",
      "[32593 rows x 2 columns]\n"
     ]
    }
   ],
   "source": [
    "print(student_enrollments)"
   ]
  },
  {
   "attachments": {},
   "cell_type": "markdown",
   "metadata": {},
   "source": [
    "## This here counts the total number of unique courses a specific user is enrolled in "
   ]
  },
  {
   "cell_type": "code",
   "execution_count": 17,
   "metadata": {
    "collapsed": false
   },
   "outputs": [
    {
     "name": "stdout",
     "output_type": "stream",
     "text": [
      "       id_student  counts\n",
      "0            3733       1\n",
      "1            6516       1\n",
      "2            8462       1\n",
      "3           11391       1\n",
      "4           23629       1\n",
      "...           ...     ...\n",
      "28780     2698591       1\n",
      "28781     2702660       1\n",
      "28782     2707979       1\n",
      "28783     2710343       1\n",
      "28784     2716795       1\n",
      "\n",
      "[28785 rows x 2 columns]\n",
      "(28785, 2)\n"
     ]
    }
   ],
   "source": [
    "student_counts = student_enrollments.groupby('id_student')['code_module'].nunique().reset_index(name='counts')\n",
    "print(student_counts)\n",
    "print(student_counts.shape)"
   ]
  },
  {
   "cell_type": "code",
   "execution_count": 19,
   "metadata": {
    "collapsed": false
   },
   "outputs": [
    {
     "name": "stdout",
     "output_type": "stream",
     "text": [
      "       id_student  counts\n",
      "2290       279883       3\n",
      "4350       399863       3\n",
      "5237       441540       3\n",
      "5974       479607       3\n",
      "6394       490297       3\n",
      "6532       493793       3\n",
      "6887       502004       3\n",
      "8014       524431       3\n",
      "8876       537811       3\n",
      "10091      551528       3\n",
      "10717      557085       3\n",
      "12012      571950       3\n",
      "12056      572154       3\n",
      "15873      600814       3\n",
      "16547      605180       3\n",
      "20207      632074       3\n",
      "22011      649230       3\n",
      "26020     1554143       3\n",
      "28279     2599883       3\n",
      "28667     2681198       3\n",
      "(20, 2)\n"
     ]
    }
   ],
   "source": [
    "students_filtered_counts = student_counts[student_counts['counts'] >= 3]\n",
    "print(students_filtered_counts)\n",
    "print(students_filtered_counts.shape)"
   ]
  },
  {
   "attachments": {},
   "cell_type": "markdown",
   "metadata": {},
   "source": [
    "## Duplicates here may happen because a student may have been enrolled in the same course at different presentations, which is not of our interest"
   ]
  },
  {
   "cell_type": "code",
   "execution_count": 21,
   "metadata": {
    "collapsed": false
   },
   "outputs": [
    {
     "name": "stdout",
     "output_type": "stream",
     "text": [
      "       id_student code_module\n",
      "0           11391         AAA\n",
      "1           28400         AAA\n",
      "2           30268         AAA\n",
      "3           31604         AAA\n",
      "4           32885         AAA\n",
      "...           ...         ...\n",
      "32588     2640965         GGG\n",
      "32589     2645731         GGG\n",
      "32590     2648187         GGG\n",
      "32591     2679821         GGG\n",
      "32592     2684003         GGG\n",
      "\n",
      "[31284 rows x 2 columns]\n"
     ]
    }
   ],
   "source": [
    "student_enrollments_filtered = student_enrollments.drop_duplicates()\n",
    "\n",
    "print(student_enrollments_filtered)"
   ]
  },
  {
   "attachments": {},
   "cell_type": "markdown",
   "metadata": {},
   "source": [
    "## There are twenty users with >= total courses of 3, the 60 observations below are each (student, course) pair"
   ]
  },
  {
   "cell_type": "code",
   "execution_count": 23,
   "metadata": {
    "collapsed": false
   },
   "outputs": [
    {
     "name": "stdout",
     "output_type": "stream",
     "text": [
      "       id_student code_module\n",
      "6803       557085         BBB\n",
      "8834       279883         CCC\n",
      "8983       399863         CCC\n",
      "9052       441540         CCC\n",
      "9103       479607         CCC\n",
      "9138       490297         CCC\n",
      "9150       493793         CCC\n",
      "9369       551528         CCC\n",
      "9488       572154         CCC\n",
      "9771       600814         CCC\n",
      "9823       605180         CCC\n",
      "10250      632074         CCC\n",
      "10584     2681198         CCC\n",
      "11096      502004         CCC\n",
      "11183      524431         CCC\n",
      "11225      537811         CCC\n",
      "11405      571950         CCC\n",
      "12869     1554143         CCC\n",
      "13062     2599883         CCC\n",
      "13557      479607         DDD\n",
      "14587      279883         DDD\n",
      "14762      399863         DDD\n",
      "14950      490297         DDD\n",
      "15158      537811         DDD\n",
      "15389      571950         DDD\n",
      "16322     2681198         DDD\n",
      "16609      493793         DDD\n",
      "16626      502004         DDD\n",
      "16892      600814         DDD\n",
      "17415     1554143         DDD\n",
      "18602      649230         DDD\n",
      "19331     2599883         DDD\n",
      "19537      441540         EEE\n",
      "19804      572154         EEE\n",
      "20236      605180         EEE\n",
      "20525      479607         EEE\n",
      "20598      551528         EEE\n",
      "20699      600814         EEE\n",
      "20989      632074         EEE\n",
      "21275      502004         EEE\n",
      "21293      524431         EEE\n",
      "21683      649230         EEE\n",
      "23006      524431         FFF\n",
      "23483      551528         FFF\n",
      "23732     1554143         FFF\n",
      "24275      399863         FFF\n",
      "26688      572154         FFF\n",
      "27834      279883         FFF\n",
      "28000      441540         FFF\n",
      "28059      490297         FFF\n",
      "28067      493793         FFF\n",
      "28145      537811         FFF\n",
      "28182      557085         FFF\n",
      "28230      571950         FFF\n",
      "28392      605180         FFF\n",
      "28550      632074         FFF\n",
      "28899      649230         FFF\n",
      "30025     2599883         FFF\n",
      "30048     2681198         FFF\n",
      "30251      557085         GGG\n",
      "(60, 2)\n"
     ]
    }
   ],
   "source": [
    "filtered_enrollments = student_enrollments_filtered[student_enrollments_filtered['id_student'].isin(students_filtered_counts['id_student'])]\n",
    "print(filtered_enrollments)\n",
    "print(filtered_enrollments.shape)"
   ]
  },
  {
   "attachments": {},
   "cell_type": "markdown",
   "metadata": {
    "collapsed": false
   },
   "source": [
    "## We can use this to encode things the traditional way into np using scikit-learn's OneHotEncoder, but we'll ignore it for now"
   ]
  },
  {
   "cell_type": "code",
   "execution_count": 24,
   "metadata": {
    "collapsed": false
   },
   "outputs": [],
   "source": [
    "from sklearn.compose import ColumnTransformer\n",
    "ct = ColumnTransformer(transformers=[('encoder', OneHotEncoder(), [1])], remainder='passthrough')\n",
    "#we can turn this into a numpy array by calling np.array on the ct.fit_transform\n",
    "filtered_enrollments_encoded = ct.fit_transform(filtered_enrollments)"
   ]
  },
  {
   "attachments": {},
   "cell_type": "markdown",
   "metadata": {
    "collapsed": false
   },
   "source": [
    "## This Does Exactly What We Want"
   ]
  },
  {
   "cell_type": "code",
   "execution_count": 77,
   "metadata": {
    "collapsed": false
   },
   "outputs": [
    {
     "name": "stdout",
     "output_type": "stream",
     "text": [
      "    id_student  code_module_BBB  code_module_CCC  code_module_DDD  \\\n",
      "0       557085                1                0                0   \n",
      "1       279883                0                1                0   \n",
      "2       399863                0                1                0   \n",
      "3       441540                0                1                0   \n",
      "4       479607                0                1                0   \n",
      "5       490297                0                1                0   \n",
      "6       493793                0                1                0   \n",
      "7       551528                0                1                0   \n",
      "8       572154                0                1                0   \n",
      "9       600814                0                1                0   \n",
      "10      605180                0                1                0   \n",
      "11      632074                0                1                0   \n",
      "12     2681198                0                1                0   \n",
      "13      502004                0                1                0   \n",
      "14      524431                0                1                0   \n",
      "15      537811                0                1                0   \n",
      "16      571950                0                1                0   \n",
      "17     1554143                0                1                0   \n",
      "18     2599883                0                1                0   \n",
      "19      479607                0                0                1   \n",
      "20      279883                0                0                1   \n",
      "21      399863                0                0                1   \n",
      "22      490297                0                0                1   \n",
      "23      537811                0                0                1   \n",
      "24      571950                0                0                1   \n",
      "25     2681198                0                0                1   \n",
      "26      493793                0                0                1   \n",
      "27      502004                0                0                1   \n",
      "28      600814                0                0                1   \n",
      "29     1554143                0                0                1   \n",
      "30      649230                0                0                1   \n",
      "31     2599883                0                0                1   \n",
      "32      441540                0                0                0   \n",
      "33      572154                0                0                0   \n",
      "34      605180                0                0                0   \n",
      "35      479607                0                0                0   \n",
      "36      551528                0                0                0   \n",
      "37      600814                0                0                0   \n",
      "38      632074                0                0                0   \n",
      "39      502004                0                0                0   \n",
      "40      524431                0                0                0   \n",
      "41      649230                0                0                0   \n",
      "42      524431                0                0                0   \n",
      "43      551528                0                0                0   \n",
      "44     1554143                0                0                0   \n",
      "45      399863                0                0                0   \n",
      "46      572154                0                0                0   \n",
      "47      279883                0                0                0   \n",
      "48      441540                0                0                0   \n",
      "49      490297                0                0                0   \n",
      "50      493793                0                0                0   \n",
      "51      537811                0                0                0   \n",
      "52      557085                0                0                0   \n",
      "53      571950                0                0                0   \n",
      "54      605180                0                0                0   \n",
      "55      632074                0                0                0   \n",
      "56      649230                0                0                0   \n",
      "57     2599883                0                0                0   \n",
      "58     2681198                0                0                0   \n",
      "59      557085                0                0                0   \n",
      "\n",
      "    code_module_EEE  code_module_FFF  code_module_GGG  \n",
      "0                 0                0                0  \n",
      "1                 0                0                0  \n",
      "2                 0                0                0  \n",
      "3                 0                0                0  \n",
      "4                 0                0                0  \n",
      "5                 0                0                0  \n",
      "6                 0                0                0  \n",
      "7                 0                0                0  \n",
      "8                 0                0                0  \n",
      "9                 0                0                0  \n",
      "10                0                0                0  \n",
      "11                0                0                0  \n",
      "12                0                0                0  \n",
      "13                0                0                0  \n",
      "14                0                0                0  \n",
      "15                0                0                0  \n",
      "16                0                0                0  \n",
      "17                0                0                0  \n",
      "18                0                0                0  \n",
      "19                0                0                0  \n",
      "20                0                0                0  \n",
      "21                0                0                0  \n",
      "22                0                0                0  \n",
      "23                0                0                0  \n",
      "24                0                0                0  \n",
      "25                0                0                0  \n",
      "26                0                0                0  \n",
      "27                0                0                0  \n",
      "28                0                0                0  \n",
      "29                0                0                0  \n",
      "30                0                0                0  \n",
      "31                0                0                0  \n",
      "32                1                0                0  \n",
      "33                1                0                0  \n",
      "34                1                0                0  \n",
      "35                1                0                0  \n",
      "36                1                0                0  \n",
      "37                1                0                0  \n",
      "38                1                0                0  \n",
      "39                1                0                0  \n",
      "40                1                0                0  \n",
      "41                1                0                0  \n",
      "42                0                1                0  \n",
      "43                0                1                0  \n",
      "44                0                1                0  \n",
      "45                0                1                0  \n",
      "46                0                1                0  \n",
      "47                0                1                0  \n",
      "48                0                1                0  \n",
      "49                0                1                0  \n",
      "50                0                1                0  \n",
      "51                0                1                0  \n",
      "52                0                1                0  \n",
      "53                0                1                0  \n",
      "54                0                1                0  \n",
      "55                0                1                0  \n",
      "56                0                1                0  \n",
      "57                0                1                0  \n",
      "58                0                1                0  \n",
      "59                0                0                1  \n"
     ]
    }
   ],
   "source": [
    "filtered_enrollments_encoded = pd.get_dummies(filtered_enrollments, columns=['code_module']).reset_index(drop=True)\n",
    "print(filtered_enrollments_encoded)"
   ]
  },
  {
   "cell_type": "code",
   "execution_count": 28,
   "metadata": {
    "collapsed": false
   },
   "outputs": [
    {
     "name": "stdout",
     "output_type": "stream",
     "text": [
      "(60, 7)\n"
     ]
    }
   ],
   "source": [
    "print(filtered_enrollments_encoded.shape)\n"
   ]
  },
  {
   "attachments": {},
   "cell_type": "markdown",
   "metadata": {
    "collapsed": false
   },
   "source": [
    "## We split the data, we'll suffice for 5 test rows, because we have 60 rows total"
   ]
  },
  {
   "cell_type": "code",
   "execution_count": 42,
   "metadata": {
    "collapsed": false
   },
   "outputs": [
    {
     "name": "stdout",
     "output_type": "stream",
     "text": [
      "(5, 7)\n",
      "(55, 7)\n"
     ]
    }
   ],
   "source": [
    "#not using this for now\n",
    "test_enrollments = filtered_enrollments_encoded.sample(5)\n",
    "print(test_enrollments.shape)\n",
    "train_enrollments = filtered_enrollments_encoded.drop(test_enrollments.index)\n",
    "print(train_enrollments.shape)\n"
   ]
  },
  {
   "cell_type": "code",
   "execution_count": 43,
   "metadata": {
    "collapsed": false
   },
   "outputs": [
    {
     "name": "stdout",
     "output_type": "stream",
     "text": [
      "            code_module_BBB  code_module_CCC  code_module_DDD  \\\n",
      "id_student                                                      \n",
      "557085                    1                0                0   \n",
      "279883                    0                1                0   \n",
      "441540                    0                1                0   \n",
      "479607                    0                1                0   \n",
      "490297                    0                1                0   \n",
      "493793                    0                1                0   \n",
      "551528                    0                1                0   \n",
      "572154                    0                1                0   \n",
      "600814                    0                1                0   \n",
      "605180                    0                1                0   \n",
      "632074                    0                1                0   \n",
      "2681198                   0                1                0   \n",
      "502004                    0                1                0   \n",
      "524431                    0                1                0   \n",
      "571950                    0                1                0   \n",
      "1554143                   0                1                0   \n",
      "2599883                   0                1                0   \n",
      "479607                    0                0                1   \n",
      "279883                    0                0                1   \n",
      "490297                    0                0                1   \n",
      "537811                    0                0                1   \n",
      "571950                    0                0                1   \n",
      "493793                    0                0                1   \n",
      "502004                    0                0                1   \n",
      "600814                    0                0                1   \n",
      "1554143                   0                0                1   \n",
      "649230                    0                0                1   \n",
      "441540                    0                0                0   \n",
      "572154                    0                0                0   \n",
      "605180                    0                0                0   \n",
      "479607                    0                0                0   \n",
      "551528                    0                0                0   \n",
      "600814                    0                0                0   \n",
      "632074                    0                0                0   \n",
      "502004                    0                0                0   \n",
      "524431                    0                0                0   \n",
      "649230                    0                0                0   \n",
      "524431                    0                0                0   \n",
      "551528                    0                0                0   \n",
      "1554143                   0                0                0   \n",
      "399863                    0                0                0   \n",
      "572154                    0                0                0   \n",
      "279883                    0                0                0   \n",
      "441540                    0                0                0   \n",
      "490297                    0                0                0   \n",
      "493793                    0                0                0   \n",
      "537811                    0                0                0   \n",
      "557085                    0                0                0   \n",
      "571950                    0                0                0   \n",
      "605180                    0                0                0   \n",
      "632074                    0                0                0   \n",
      "649230                    0                0                0   \n",
      "2599883                   0                0                0   \n",
      "2681198                   0                0                0   \n",
      "557085                    0                0                0   \n",
      "\n",
      "            code_module_EEE  code_module_FFF  code_module_GGG  \n",
      "id_student                                                     \n",
      "557085                    0                0                0  \n",
      "279883                    0                0                0  \n",
      "441540                    0                0                0  \n",
      "479607                    0                0                0  \n",
      "490297                    0                0                0  \n",
      "493793                    0                0                0  \n",
      "551528                    0                0                0  \n",
      "572154                    0                0                0  \n",
      "600814                    0                0                0  \n",
      "605180                    0                0                0  \n",
      "632074                    0                0                0  \n",
      "2681198                   0                0                0  \n",
      "502004                    0                0                0  \n",
      "524431                    0                0                0  \n",
      "571950                    0                0                0  \n",
      "1554143                   0                0                0  \n",
      "2599883                   0                0                0  \n",
      "479607                    0                0                0  \n",
      "279883                    0                0                0  \n",
      "490297                    0                0                0  \n",
      "537811                    0                0                0  \n",
      "571950                    0                0                0  \n",
      "493793                    0                0                0  \n",
      "502004                    0                0                0  \n",
      "600814                    0                0                0  \n",
      "1554143                   0                0                0  \n",
      "649230                    0                0                0  \n",
      "441540                    1                0                0  \n",
      "572154                    1                0                0  \n",
      "605180                    1                0                0  \n",
      "479607                    1                0                0  \n",
      "551528                    1                0                0  \n",
      "600814                    1                0                0  \n",
      "632074                    1                0                0  \n",
      "502004                    1                0                0  \n",
      "524431                    1                0                0  \n",
      "649230                    1                0                0  \n",
      "524431                    0                1                0  \n",
      "551528                    0                1                0  \n",
      "1554143                   0                1                0  \n",
      "399863                    0                1                0  \n",
      "572154                    0                1                0  \n",
      "279883                    0                1                0  \n",
      "441540                    0                1                0  \n",
      "490297                    0                1                0  \n",
      "493793                    0                1                0  \n",
      "537811                    0                1                0  \n",
      "557085                    0                1                0  \n",
      "571950                    0                1                0  \n",
      "605180                    0                1                0  \n",
      "632074                    0                1                0  \n",
      "649230                    0                1                0  \n",
      "2599883                   0                1                0  \n",
      "2681198                   0                1                0  \n",
      "557085                    0                0                1  \n",
      "            code_module_BBB  code_module_CCC  code_module_DDD  \\\n",
      "id_student                                                      \n",
      "2599883                   0                0                1   \n",
      "399863                    0                1                0   \n",
      "2681198                   0                0                1   \n",
      "537811                    0                1                0   \n",
      "399863                    0                0                1   \n",
      "\n",
      "            code_module_EEE  code_module_FFF  code_module_GGG  \n",
      "id_student                                                     \n",
      "2599883                   0                0                0  \n",
      "399863                    0                0                0  \n",
      "2681198                   0                0                0  \n",
      "537811                    0                0                0  \n",
      "399863                    0                0                0  \n"
     ]
    }
   ],
   "source": [
    "#not using this for now\n",
    "train_matrix = train_enrollments.set_index('id_student')\n",
    "print(train_matrix)\n",
    "\n",
    "test_matrix = test_enrollments.set_index('id_student')\n",
    "print(test_matrix)"
   ]
  },
  {
   "cell_type": "code",
   "execution_count": 84,
   "metadata": {
    "collapsed": false
   },
   "outputs": [
    {
     "name": "stdout",
     "output_type": "stream",
     "text": [
      "    code_module_BBB  code_module_CCC  code_module_DDD  code_module_EEE  \\\n",
      "0                 1                0                0                0   \n",
      "1                 0                1                0                0   \n",
      "2                 0                1                0                0   \n",
      "3                 0                1                0                0   \n",
      "4                 0                1                0                0   \n",
      "5                 0                1                0                0   \n",
      "6                 0                1                0                0   \n",
      "7                 0                1                0                0   \n",
      "8                 0                1                0                0   \n",
      "9                 0                1                0                0   \n",
      "10                0                1                0                0   \n",
      "11                0                1                0                0   \n",
      "12                0                1                0                0   \n",
      "13                0                1                0                0   \n",
      "14                0                1                0                0   \n",
      "15                0                1                0                0   \n",
      "16                0                1                0                0   \n",
      "17                0                1                0                0   \n",
      "18                0                1                0                0   \n",
      "19                0                0                1                0   \n",
      "20                0                0                1                0   \n",
      "21                0                0                1                0   \n",
      "22                0                0                1                0   \n",
      "23                0                0                1                0   \n",
      "24                0                0                1                0   \n",
      "25                0                0                1                0   \n",
      "26                0                0                1                0   \n",
      "27                0                0                1                0   \n",
      "28                0                0                1                0   \n",
      "29                0                0                1                0   \n",
      "30                0                0                1                0   \n",
      "31                0                0                1                0   \n",
      "32                0                0                0                1   \n",
      "33                0                0                0                1   \n",
      "34                0                0                0                1   \n",
      "35                0                0                0                1   \n",
      "36                0                0                0                1   \n",
      "37                0                0                0                1   \n",
      "38                0                0                0                1   \n",
      "39                0                0                0                1   \n",
      "40                0                0                0                1   \n",
      "41                0                0                0                1   \n",
      "42                0                0                0                0   \n",
      "43                0                0                0                0   \n",
      "44                0                0                0                0   \n",
      "45                0                0                0                0   \n",
      "46                0                0                0                0   \n",
      "47                0                0                0                0   \n",
      "48                0                0                0                0   \n",
      "49                0                0                0                0   \n",
      "50                0                0                0                0   \n",
      "51                0                0                0                0   \n",
      "52                0                0                0                0   \n",
      "53                0                0                0                0   \n",
      "54                0                0                0                0   \n",
      "55                0                0                0                0   \n",
      "56                0                0                0                0   \n",
      "57                0                0                0                0   \n",
      "58                0                0                0                0   \n",
      "59                0                0                0                0   \n",
      "\n",
      "    code_module_FFF  code_module_GGG  \n",
      "0                 0                0  \n",
      "1                 0                0  \n",
      "2                 0                0  \n",
      "3                 0                0  \n",
      "4                 0                0  \n",
      "5                 0                0  \n",
      "6                 0                0  \n",
      "7                 0                0  \n",
      "8                 0                0  \n",
      "9                 0                0  \n",
      "10                0                0  \n",
      "11                0                0  \n",
      "12                0                0  \n",
      "13                0                0  \n",
      "14                0                0  \n",
      "15                0                0  \n",
      "16                0                0  \n",
      "17                0                0  \n",
      "18                0                0  \n",
      "19                0                0  \n",
      "20                0                0  \n",
      "21                0                0  \n",
      "22                0                0  \n",
      "23                0                0  \n",
      "24                0                0  \n",
      "25                0                0  \n",
      "26                0                0  \n",
      "27                0                0  \n",
      "28                0                0  \n",
      "29                0                0  \n",
      "30                0                0  \n",
      "31                0                0  \n",
      "32                0                0  \n",
      "33                0                0  \n",
      "34                0                0  \n",
      "35                0                0  \n",
      "36                0                0  \n",
      "37                0                0  \n",
      "38                0                0  \n",
      "39                0                0  \n",
      "40                0                0  \n",
      "41                0                0  \n",
      "42                1                0  \n",
      "43                1                0  \n",
      "44                1                0  \n",
      "45                1                0  \n",
      "46                1                0  \n",
      "47                1                0  \n",
      "48                1                0  \n",
      "49                1                0  \n",
      "50                1                0  \n",
      "51                1                0  \n",
      "52                1                0  \n",
      "53                1                0  \n",
      "54                1                0  \n",
      "55                1                0  \n",
      "56                1                0  \n",
      "57                1                0  \n",
      "58                1                0  \n",
      "59                0                1  \n"
     ]
    }
   ],
   "source": [
    "train_ready_filtered_enrollments = filtered_enrollments_encoded.drop(columns='id_student')\n",
    "print(train_ready_filtered_enrollments)"
   ]
  },
  {
   "attachments": {},
   "cell_type": "markdown",
   "metadata": {
    "collapsed": false
   },
   "source": [
    "## Now we train the model"
   ]
  },
  {
   "cell_type": "code",
   "execution_count": 85,
   "metadata": {
    "collapsed": false
   },
   "outputs": [
    {
     "data": {
      "application/vnd.jupyter.widget-view+json": {
       "model_id": "4c42f3cab62d49a98bae558230a42d8d",
       "version_major": 2,
       "version_minor": 0
      },
      "text/plain": [
       "  0%|          | 0/100 [00:00<?, ?it/s]"
      ]
     },
     "metadata": {},
     "output_type": "display_data"
    }
   ],
   "source": [
    "from scipy.sparse import csr_matrix\n",
    "from implicit.bpr import BayesianPersonalizedRanking\n",
    "# initialize model\n",
    "model = BayesianPersonalizedRanking()\n",
    "\n",
    "# train model on training data\n",
    "model.fit(csr_matrix(train_ready_filtered_enrollments))"
   ]
  },
  {
   "attachments": {},
   "cell_type": "markdown",
   "metadata": {
    "collapsed": false
   },
   "source": [
    "## Test Recommendations"
   ]
  },
  {
   "cell_type": "code",
   "execution_count": null,
   "metadata": {
    "collapsed": false
   },
   "outputs": [],
   "source": [
    "# get recommendations for a test user\n",
    "user = test_enrollments.loc['id_student' == 2599883]\n",
    "print(user)\n",
    "print(test_matrix.loc[2599883])"
   ]
  },
  {
   "cell_type": "code",
   "execution_count": 95,
   "metadata": {
    "collapsed": false
   },
   "outputs": [
    {
     "name": "stdout",
     "output_type": "stream",
     "text": [
      "557085\n",
      "    code_module_BBB  code_module_CCC  code_module_DDD  code_module_EEE  \\\n",
      "0                 1                0                0                0   \n",
      "52                0                0                0                0   \n",
      "59                0                0                0                0   \n",
      "\n",
      "    code_module_FFF  code_module_GGG  \n",
      "0                 0                0  \n",
      "52                1                0  \n",
      "59                0                1  \n"
     ]
    }
   ],
   "source": [
    "user_id = filtered_enrollments_encoded.iloc[0]['id_student']\n",
    "print(user_id)\n",
    "user_rows = filtered_enrollments_encoded[filtered_enrollments_encoded['id_student'] == user_id]\n",
    "user_rows = user_rows.drop(columns='id_student')\n",
    "print(user_rows)"
   ]
  },
  {
   "cell_type": "code",
   "execution_count": 82,
   "metadata": {
    "collapsed": false
   },
   "outputs": [
    {
     "name": "stdout",
     "output_type": "stream",
     "text": [
      "  (0, 1)\t1\n",
      "  (1, 2)\t1\n",
      "  (2, 4)\t1\n"
     ]
    }
   ],
   "source": [
    "print(csr_matrix(user_rows))"
   ]
  },
  {
   "cell_type": "code",
   "execution_count": 97,
   "metadata": {
    "collapsed": false
   },
   "outputs": [
    {
     "ename": "ValueError",
     "evalue": "user_items must contain 1 row for every user in userids",
     "output_type": "error",
     "traceback": [
      "\u001b[1;31m---------------------------------------------------------------------------\u001b[0m",
      "\u001b[1;31mValueError\u001b[0m                                Traceback (most recent call last)",
      "\u001b[1;32m~\\AppData\\Local\\Temp\\ipykernel_30992\\88356549.py\u001b[0m in \u001b[0;36m<module>\u001b[1;34m\u001b[0m\n\u001b[0;32m      1\u001b[0m \u001b[0muser_items\u001b[0m \u001b[1;33m=\u001b[0m \u001b[0mcsr_matrix\u001b[0m\u001b[1;33m(\u001b[0m\u001b[0muser_rows\u001b[0m\u001b[1;33m)\u001b[0m\u001b[1;33m\u001b[0m\u001b[1;33m\u001b[0m\u001b[0m\n\u001b[0;32m      2\u001b[0m \u001b[0mnum_recommendations\u001b[0m \u001b[1;33m=\u001b[0m \u001b[1;36m3\u001b[0m\u001b[1;33m\u001b[0m\u001b[1;33m\u001b[0m\u001b[0m\n\u001b[1;32m----> 3\u001b[1;33m \u001b[0mrecommended_courses\u001b[0m \u001b[1;33m=\u001b[0m \u001b[0mmodel\u001b[0m\u001b[1;33m.\u001b[0m\u001b[0mrecommend\u001b[0m\u001b[1;33m(\u001b[0m\u001b[1;36m0\u001b[0m\u001b[1;33m,\u001b[0m \u001b[0muser_items\u001b[0m\u001b[1;33m,\u001b[0m \u001b[0mN\u001b[0m\u001b[1;33m=\u001b[0m\u001b[0mnum_recommendations\u001b[0m\u001b[1;33m)\u001b[0m\u001b[1;33m\u001b[0m\u001b[1;33m\u001b[0m\u001b[0m\n\u001b[0m\u001b[0;32m      4\u001b[0m \u001b[1;33m\u001b[0m\u001b[0m\n",
      "\u001b[1;32m~\\anaconda3\\lib\\site-packages\\implicit\\cpu\\matrix_factorization_base.py\u001b[0m in \u001b[0;36mrecommend\u001b[1;34m(self, userid, user_items, N, filter_already_liked_items, filter_items, recalculate_user, items)\u001b[0m\n\u001b[0;32m     47\u001b[0m             \u001b[0muser_count\u001b[0m \u001b[1;33m=\u001b[0m \u001b[1;36m1\u001b[0m \u001b[1;32mif\u001b[0m \u001b[0mnp\u001b[0m\u001b[1;33m.\u001b[0m\u001b[0misscalar\u001b[0m\u001b[1;33m(\u001b[0m\u001b[0muserid\u001b[0m\u001b[1;33m)\u001b[0m \u001b[1;32melse\u001b[0m \u001b[0mlen\u001b[0m\u001b[1;33m(\u001b[0m\u001b[0muserid\u001b[0m\u001b[1;33m)\u001b[0m\u001b[1;33m\u001b[0m\u001b[1;33m\u001b[0m\u001b[0m\n\u001b[0;32m     48\u001b[0m             \u001b[1;32mif\u001b[0m \u001b[0muser_items\u001b[0m\u001b[1;33m.\u001b[0m\u001b[0mshape\u001b[0m\u001b[1;33m[\u001b[0m\u001b[1;36m0\u001b[0m\u001b[1;33m]\u001b[0m \u001b[1;33m!=\u001b[0m \u001b[0muser_count\u001b[0m\u001b[1;33m:\u001b[0m\u001b[1;33m\u001b[0m\u001b[1;33m\u001b[0m\u001b[0m\n\u001b[1;32m---> 49\u001b[1;33m                 \u001b[1;32mraise\u001b[0m \u001b[0mValueError\u001b[0m\u001b[1;33m(\u001b[0m\u001b[1;34m\"user_items must contain 1 row for every user in userids\"\u001b[0m\u001b[1;33m)\u001b[0m\u001b[1;33m\u001b[0m\u001b[1;33m\u001b[0m\u001b[0m\n\u001b[0m\u001b[0;32m     50\u001b[0m \u001b[1;33m\u001b[0m\u001b[0m\n\u001b[0;32m     51\u001b[0m         \u001b[0muser\u001b[0m \u001b[1;33m=\u001b[0m \u001b[0mself\u001b[0m\u001b[1;33m.\u001b[0m\u001b[0m_user_factor\u001b[0m\u001b[1;33m(\u001b[0m\u001b[0muserid\u001b[0m\u001b[1;33m,\u001b[0m \u001b[0muser_items\u001b[0m\u001b[1;33m,\u001b[0m \u001b[0mrecalculate_user\u001b[0m\u001b[1;33m)\u001b[0m\u001b[1;33m\u001b[0m\u001b[1;33m\u001b[0m\u001b[0m\n",
      "\u001b[1;31mValueError\u001b[0m: user_items must contain 1 row for every user in userids"
     ]
    }
   ],
   "source": [
    "user_items = csr_matrix(user_rows)\n",
    "num_recommendations = 3\n",
    "recommended_courses = model.recommend(0, user_items, N=num_recommendations)\n"
   ]
  },
  {
   "cell_type": "code",
   "execution_count": 100,
   "metadata": {
    "collapsed": false
   },
   "outputs": [
    {
     "name": "stdout",
     "output_type": "stream",
     "text": [
      "            code_module_BBB  code_module_CCC  code_module_DDD  \\\n",
      "id_student                                                      \n",
      "279883                    0                1                1   \n",
      "399863                    0                1                1   \n",
      "441540                    0                1                0   \n",
      "479607                    0                1                1   \n",
      "490297                    0                1                1   \n",
      "493793                    0                1                1   \n",
      "502004                    0                1                1   \n",
      "524431                    0                1                0   \n",
      "537811                    0                1                1   \n",
      "551528                    0                1                0   \n",
      "557085                    1                0                0   \n",
      "571950                    0                1                1   \n",
      "572154                    0                1                0   \n",
      "600814                    0                1                1   \n",
      "605180                    0                1                0   \n",
      "632074                    0                1                0   \n",
      "649230                    0                0                1   \n",
      "1554143                   0                1                1   \n",
      "2599883                   0                1                1   \n",
      "2681198                   0                1                1   \n",
      "\n",
      "            code_module_EEE  code_module_FFF  code_module_GGG  \n",
      "id_student                                                     \n",
      "279883                    0                1                0  \n",
      "399863                    0                1                0  \n",
      "441540                    1                1                0  \n",
      "479607                    1                0                0  \n",
      "490297                    0                1                0  \n",
      "493793                    0                1                0  \n",
      "502004                    1                0                0  \n",
      "524431                    1                1                0  \n",
      "537811                    0                1                0  \n",
      "551528                    1                1                0  \n",
      "557085                    0                1                1  \n",
      "571950                    0                1                0  \n",
      "572154                    1                1                0  \n",
      "600814                    1                0                0  \n",
      "605180                    1                1                0  \n",
      "632074                    1                1                0  \n",
      "649230                    1                1                0  \n",
      "1554143                   0                1                0  \n",
      "2599883                   0                1                0  \n",
      "2681198                   0                1                0  \n",
      "279883\n",
      "code_module_BBB    0\n",
      "code_module_CCC    1\n",
      "code_module_DDD    1\n",
      "code_module_EEE    0\n",
      "code_module_FFF    1\n",
      "code_module_GGG    0\n",
      "Name: 279883, dtype: uint8\n"
     ]
    }
   ],
   "source": [
    "grouped_enrollments = filtered_enrollments_encoded.groupby('id_student').sum()\n",
    "user_id3 = grouped_enrollments.index[0]\n",
    "user_rows3 = grouped_enrollments.loc[user_id3]\n",
    "print(grouped_enrollments)\n",
    "print(user_id3)\n",
    "print(user_rows3)\n"
   ]
  },
  {
   "cell_type": "code",
   "execution_count": 104,
   "metadata": {
    "collapsed": false
   },
   "outputs": [
    {
     "name": "stdout",
     "output_type": "stream",
     "text": [
      "[0 1 1 0 1 0]\n"
     ]
    }
   ],
   "source": [
    "user_rows3 = grouped_enrollments.loc[user_id3]\n",
    "print(user_rows3)"
   ]
  },
  {
   "cell_type": "code",
   "execution_count": 105,
   "metadata": {
    "collapsed": false
   },
   "outputs": [],
   "source": [
    "user_items = csr_matrix(user_rows3)\n",
    "num_recommendations = 3\n",
    "recommended_courses = model.recommend(0, user_items, N=num_recommendations)"
   ]
  },
  {
   "cell_type": "code",
   "execution_count": 108,
   "metadata": {
    "collapsed": false
   },
   "outputs": [
    {
     "name": "stdout",
     "output_type": "stream",
     "text": [
      "(array([5, 0, 3]), array([-0.00855518, -0.02924612, -0.06822795], dtype=float32))\n"
     ]
    }
   ],
   "source": [
    "print(recommended_courses)"
   ]
  },
  {
   "cell_type": "code",
   "execution_count": 111,
   "metadata": {
    "collapsed": false
   },
   "outputs": [
    {
     "name": "stdout",
     "output_type": "stream",
     "text": [
      "[5 0 3]\n",
      "[-0.00855518 -0.02924612 -0.06822795]\n",
      "code_module_BBB    0\n",
      "code_module_CCC    1\n",
      "code_module_DDD    1\n",
      "code_module_EEE    0\n",
      "code_module_FFF    1\n",
      "code_module_GGG    0\n",
      "Name: 279883, dtype: uint8\n",
      "code_module_BBB    0\n",
      "code_module_CCC    1\n",
      "code_module_DDD    1\n",
      "code_module_EEE    1\n",
      "code_module_FFF    0\n",
      "code_module_GGG    0\n",
      "Name: 479607, dtype: uint8\n",
      "code_module_BBB    0\n",
      "code_module_CCC    1\n",
      "code_module_DDD    1\n",
      "code_module_EEE    0\n",
      "code_module_FFF    1\n",
      "code_module_GGG    0\n",
      "Name: 493793, dtype: uint8\n"
     ]
    }
   ],
   "source": [
    "print(recommended_courses[0])\n",
    "print(recommended_courses[1])\n",
    "print(grouped_enrollments.iloc[0])\n",
    "print(grouped_enrollments.iloc[3])\n",
    "print(grouped_enrollments.iloc[5])\n"
   ]
  },
  {
   "cell_type": "code",
   "execution_count": 107,
   "metadata": {
    "collapsed": false
   },
   "outputs": [
    {
     "ename": "IndexError",
     "evalue": "index 5 is out of bounds for axis 0 with size 3",
     "output_type": "error",
     "traceback": [
      "\u001b[1;31m---------------------------------------------------------------------------\u001b[0m",
      "\u001b[1;31mIndexError\u001b[0m                                Traceback (most recent call last)",
      "\u001b[1;32m~\\AppData\\Local\\Temp\\ipykernel_30992\\726050708.py\u001b[0m in \u001b[0;36m<module>\u001b[1;34m\u001b[0m\n\u001b[0;32m      6\u001b[0m \u001b[1;31m# Print the recommended courses along with their scores\u001b[0m\u001b[1;33m\u001b[0m\u001b[1;33m\u001b[0m\u001b[0m\n\u001b[0;32m      7\u001b[0m \u001b[1;32mfor\u001b[0m \u001b[0mindex\u001b[0m\u001b[1;33m,\u001b[0m \u001b[0mrow\u001b[0m \u001b[1;32min\u001b[0m \u001b[0mrecommended_courses_df\u001b[0m\u001b[1;33m.\u001b[0m\u001b[0miterrows\u001b[0m\u001b[1;33m(\u001b[0m\u001b[1;33m)\u001b[0m\u001b[1;33m:\u001b[0m\u001b[1;33m\u001b[0m\u001b[1;33m\u001b[0m\u001b[0m\n\u001b[1;32m----> 8\u001b[1;33m     \u001b[0mprint\u001b[0m\u001b[1;33m(\u001b[0m\u001b[1;34mf\"Course: {row}\\tScore: {recommended_scores[index]}\"\u001b[0m\u001b[1;33m)\u001b[0m\u001b[1;33m\u001b[0m\u001b[1;33m\u001b[0m\u001b[0m\n\u001b[0m",
      "\u001b[1;31mIndexError\u001b[0m: index 5 is out of bounds for axis 0 with size 3"
     ]
    }
   ],
   "source": [
    "recommended_indices = recommended_courses[0]\n",
    "recommended_scores = recommended_courses[1]\n",
    "\n",
    "recommended_courses_df = filtered_enrollments_encoded.iloc[recommended_indices][['code_module_BBB', 'code_module_CCC', 'code_module_DDD', 'code_module_EEE', 'code_module_FFF', 'code_module_GGG']]\n",
    "\n",
    "# Print the recommended courses along with their scores\n",
    "for index, row in recommended_courses_df.iterrows():\n",
    "    print(f\"Course: {row}\\tScore: {recommended_scores[index]}\")"
   ]
  },
  {
   "attachments": {},
   "cell_type": "markdown",
   "metadata": {
    "collapsed": false
   },
   "source": []
  },
  {
   "attachments": {},
   "cell_type": "markdown",
   "metadata": {
    "collapsed": false
   },
   "source": [
    "Fix the train & test sample split, since every user is existent for the number of times he has enrolled, so if he enrolled in 4 courses, he'd be in the dataset 4 times, the problem is, when we sample randomly, we might get let's say 2 of those 4 times he's present in the data, and the data just becomes messed up, so i'll user the filtered_enrollments directly because it's pre seperation of train test, we might keep using that"
   ]
  },
  {
   "attachments": {},
   "cell_type": "markdown",
   "metadata": {
    "collapsed": false
   },
   "source": [
    "## The logic for the recommendations is ready, side note: maybe grouped_enrollments is what needs to be fed to the training data, the sum of enrollments encoded, and each user appears once, so that's something to consider so keep it and try it later on, also write the code to display and visualize the recommended courses, also clean the other code cells and try other algorithms"
   ]
  }
 ],
 "metadata": {
  "kernelspec": {
   "display_name": "Python 3 (ipykernel)",
   "language": "python",
   "name": "python3"
  },
  "language_info": {
   "codemirror_mode": {
    "name": "ipython",
    "version": 3
   },
   "file_extension": ".py",
   "mimetype": "text/x-python",
   "name": "python",
   "nbconvert_exporter": "python",
   "pygments_lexer": "ipython3",
   "version": "3.9.16"
  }
 },
 "nbformat": 4,
 "nbformat_minor": 1
}
