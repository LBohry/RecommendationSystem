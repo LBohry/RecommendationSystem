{
 "cells": [
  {
   "cell_type": "code",
   "execution_count": 3,
   "outputs": [
    {
     "name": "stdout",
     "output_type": "stream",
     "text": [
      "Collecting implicit\n",
      "  Downloading implicit-0.6.2-cp39-cp39-win_amd64.whl (647 kB)\n",
      "     ------------------------------------ 647.2/647.2 kB 715.7 kB/s eta 0:00:00\n",
      "Requirement already satisfied: numpy in c:\\users\\abirr\\anaconda3\\lib\\site-packages (from implicit) (1.21.5)\n",
      "Requirement already satisfied: tqdm>=4.27 in c:\\users\\abirr\\anaconda3\\lib\\site-packages (from implicit) (4.64.1)\n",
      "Requirement already satisfied: scipy>=0.16 in c:\\users\\abirr\\anaconda3\\lib\\site-packages (from implicit) (1.9.1)\n",
      "Requirement already satisfied: colorama in c:\\users\\abirr\\anaconda3\\lib\\site-packages (from tqdm>=4.27->implicit) (0.4.5)\n",
      "Installing collected packages: implicit\n",
      "Successfully installed implicit-0.6.2\n"
     ]
    }
   ],
   "source": [
    "!pip install implicit"
   ],
   "metadata": {
    "collapsed": false
   }
  },
  {
   "cell_type": "code",
   "execution_count": 28,
   "metadata": {},
   "outputs": [],
   "source": [
    "import pandas as pd\n",
    "import numpy as np\n",
    "from sklearn.model_selection import train_test_split\n",
    "from implicit.bpr import BayesianPersonalizedRanking\n",
    "from sklearn.preprocessing import OneHotEncoder\n"
   ]
  },
  {
   "cell_type": "code",
   "execution_count": 9,
   "outputs": [],
   "source": [
    "\n",
    "student_info = pd.read_csv('studentInfo.csv')\n",
    "student_enrollments = student_info[['id_student', 'code_module']]\n"
   ],
   "metadata": {
    "collapsed": false
   }
  },
  {
   "cell_type": "code",
   "execution_count": 10,
   "outputs": [
    {
     "name": "stdout",
     "output_type": "stream",
     "text": [
      "       id_student code_module\n",
      "0           11391         AAA\n",
      "1           28400         AAA\n",
      "2           30268         AAA\n",
      "3           31604         AAA\n",
      "4           32885         AAA\n",
      "...           ...         ...\n",
      "32588     2640965         GGG\n",
      "32589     2645731         GGG\n",
      "32590     2648187         GGG\n",
      "32591     2679821         GGG\n",
      "32592     2684003         GGG\n",
      "\n",
      "[32593 rows x 2 columns]\n"
     ]
    }
   ],
   "source": [
    "print(student_enrollments)"
   ],
   "metadata": {
    "collapsed": false
   }
  },
  {
   "cell_type": "code",
   "execution_count": 25,
   "outputs": [
    {
     "name": "stdout",
     "output_type": "stream",
     "text": [
      "       id_student code_module  counts\n",
      "0            3733         DDD       1\n",
      "1            6516         AAA       1\n",
      "2            8462         DDD       2\n",
      "3           11391         AAA       1\n",
      "4           23629         BBB       1\n",
      "...           ...         ...     ...\n",
      "31279     2698591         BBB       1\n",
      "31280     2702660         FFF       1\n",
      "31281     2707979         DDD       1\n",
      "31282     2710343         DDD       2\n",
      "31283     2716795         DDD       1\n",
      "\n",
      "[31284 rows x 3 columns]\n",
      "(31284, 3)\n"
     ]
    }
   ],
   "source": [
    "student_counts = student_enrollments.groupby(['id_student','code_module']).size().reset_index(name='counts')\n",
    "print(student_counts)\n",
    "print(student_counts.shape)"
   ],
   "metadata": {
    "collapsed": false
   }
  },
  {
   "cell_type": "code",
   "execution_count": 26,
   "outputs": [
    {
     "name": "stdout",
     "output_type": "stream",
     "text": [
      "       id_student code_module  counts\n",
      "1367       172965         DDD       3\n",
      "2074       252652         BBB       3\n",
      "2333       271702         FFF       3\n",
      "2894       309258         DDD       3\n",
      "3252       334224         FFF       3\n",
      "4170       381365         FFF       3\n",
      "4325       387276         BBB       4\n",
      "5894       466158         DDD       3\n",
      "6137       473095         BBB       3\n",
      "6849       491011         FFF       3\n",
      "7216       499244         FFF       3\n",
      "7497       504700         FFF       3\n",
      "7545       505595         BBB       3\n",
      "9778       542550         FFF       3\n",
      "9782       542562         BBB       3\n",
      "9979       544649         DDD       3\n",
      "10146      546403         DDD       3\n",
      "10583      550142         DDD       3\n",
      "11260      556126         FFF       3\n",
      "11318      556492         FFF       3\n",
      "11866      560496         FFF       3\n",
      "12255      565275         EEE       3\n",
      "14486      584077         DDD       3\n",
      "15031      587576         DDD       3\n",
      "15693      591852         DDD       3\n",
      "15871      592939         FFF       3\n",
      "16451      596620         DDD       3\n",
      "17900      605228         FFF       3\n",
      "28324     1536591         BBB       3\n",
      "28843     1935774         DDD       3\n",
      "28943     1993672         BBB       3\n",
      "29052     2046628         DDD       4\n",
      "29123     2082180         DDD       3\n",
      "30158     2463282         FFF       3\n",
      "30915     2630284         FFF       3\n",
      "31023     2648271         DDD       3\n",
      "(36, 3)\n"
     ]
    }
   ],
   "source": [
    "students_filtered = student_counts[student_counts['counts'] >= 3]\n",
    "print(students_filtered)\n",
    "print(students_filtered.shape)"
   ],
   "metadata": {
    "collapsed": false
   }
  },
  {
   "cell_type": "code",
   "execution_count": 39,
   "outputs": [
    {
     "ename": "ValueError",
     "evalue": "Shape of passed values is (36, 7), indices imply (36, 4)",
     "output_type": "error",
     "traceback": [
      "\u001B[1;31m---------------------------------------------------------------------------\u001B[0m",
      "\u001B[1;31mValueError\u001B[0m                                Traceback (most recent call last)",
      "\u001B[1;32m~\\AppData\\Local\\Temp\\ipykernel_25696\\2844273089.py\u001B[0m in \u001B[0;36m<module>\u001B[1;34m\u001B[0m\n\u001B[0;32m      9\u001B[0m \u001B[1;33m\u001B[0m\u001B[0m\n\u001B[0;32m     10\u001B[0m \u001B[0mcat_col_name\u001B[0m \u001B[1;33m=\u001B[0m \u001B[0mencoder\u001B[0m\u001B[1;33m.\u001B[0m\u001B[0mget_feature_names_out\u001B[0m\u001B[1;33m(\u001B[0m\u001B[0mcategorical_variable\u001B[0m\u001B[1;33m)\u001B[0m\u001B[1;33m\u001B[0m\u001B[1;33m\u001B[0m\u001B[0m\n\u001B[1;32m---> 11\u001B[1;33m \u001B[0mstudents_processed\u001B[0m \u001B[1;33m=\u001B[0m \u001B[0mpd\u001B[0m\u001B[1;33m.\u001B[0m\u001B[0mDataFrame\u001B[0m\u001B[1;33m(\u001B[0m\u001B[0mdata\u001B[0m\u001B[1;33m=\u001B[0m\u001B[0mstudents_filtered_encoded\u001B[0m\u001B[1;33m,\u001B[0m \u001B[0mcolumns\u001B[0m\u001B[1;33m=\u001B[0m\u001B[0mcat_col_name\u001B[0m\u001B[1;33m)\u001B[0m\u001B[1;33m\u001B[0m\u001B[1;33m\u001B[0m\u001B[0m\n\u001B[0m\u001B[0;32m     12\u001B[0m \u001B[1;33m\u001B[0m\u001B[0m\n\u001B[0;32m     13\u001B[0m \u001B[0mprint\u001B[0m\u001B[1;33m(\u001B[0m\u001B[0mstudents_processed\u001B[0m\u001B[1;33m)\u001B[0m\u001B[1;33m\u001B[0m\u001B[1;33m\u001B[0m\u001B[0m\n",
      "\u001B[1;32m~\\anaconda3\\lib\\site-packages\\pandas\\core\\frame.py\u001B[0m in \u001B[0;36m__init__\u001B[1;34m(self, data, index, columns, dtype, copy)\u001B[0m\n\u001B[0;32m    692\u001B[0m                 )\n\u001B[0;32m    693\u001B[0m             \u001B[1;32melse\u001B[0m\u001B[1;33m:\u001B[0m\u001B[1;33m\u001B[0m\u001B[1;33m\u001B[0m\u001B[0m\n\u001B[1;32m--> 694\u001B[1;33m                 mgr = ndarray_to_mgr(\n\u001B[0m\u001B[0;32m    695\u001B[0m                     \u001B[0mdata\u001B[0m\u001B[1;33m,\u001B[0m\u001B[1;33m\u001B[0m\u001B[1;33m\u001B[0m\u001B[0m\n\u001B[0;32m    696\u001B[0m                     \u001B[0mindex\u001B[0m\u001B[1;33m,\u001B[0m\u001B[1;33m\u001B[0m\u001B[1;33m\u001B[0m\u001B[0m\n",
      "\u001B[1;32m~\\anaconda3\\lib\\site-packages\\pandas\\core\\internals\\construction.py\u001B[0m in \u001B[0;36mndarray_to_mgr\u001B[1;34m(values, index, columns, dtype, copy, typ)\u001B[0m\n\u001B[0;32m    349\u001B[0m     )\n\u001B[0;32m    350\u001B[0m \u001B[1;33m\u001B[0m\u001B[0m\n\u001B[1;32m--> 351\u001B[1;33m     \u001B[0m_check_values_indices_shape_match\u001B[0m\u001B[1;33m(\u001B[0m\u001B[0mvalues\u001B[0m\u001B[1;33m,\u001B[0m \u001B[0mindex\u001B[0m\u001B[1;33m,\u001B[0m \u001B[0mcolumns\u001B[0m\u001B[1;33m)\u001B[0m\u001B[1;33m\u001B[0m\u001B[1;33m\u001B[0m\u001B[0m\n\u001B[0m\u001B[0;32m    352\u001B[0m \u001B[1;33m\u001B[0m\u001B[0m\n\u001B[0;32m    353\u001B[0m     \u001B[1;32mif\u001B[0m \u001B[0mtyp\u001B[0m \u001B[1;33m==\u001B[0m \u001B[1;34m\"array\"\u001B[0m\u001B[1;33m:\u001B[0m\u001B[1;33m\u001B[0m\u001B[1;33m\u001B[0m\u001B[0m\n",
      "\u001B[1;32m~\\anaconda3\\lib\\site-packages\\pandas\\core\\internals\\construction.py\u001B[0m in \u001B[0;36m_check_values_indices_shape_match\u001B[1;34m(values, index, columns)\u001B[0m\n\u001B[0;32m    420\u001B[0m         \u001B[0mpassed\u001B[0m \u001B[1;33m=\u001B[0m \u001B[0mvalues\u001B[0m\u001B[1;33m.\u001B[0m\u001B[0mshape\u001B[0m\u001B[1;33m\u001B[0m\u001B[1;33m\u001B[0m\u001B[0m\n\u001B[0;32m    421\u001B[0m         \u001B[0mimplied\u001B[0m \u001B[1;33m=\u001B[0m \u001B[1;33m(\u001B[0m\u001B[0mlen\u001B[0m\u001B[1;33m(\u001B[0m\u001B[0mindex\u001B[0m\u001B[1;33m)\u001B[0m\u001B[1;33m,\u001B[0m \u001B[0mlen\u001B[0m\u001B[1;33m(\u001B[0m\u001B[0mcolumns\u001B[0m\u001B[1;33m)\u001B[0m\u001B[1;33m)\u001B[0m\u001B[1;33m\u001B[0m\u001B[1;33m\u001B[0m\u001B[0m\n\u001B[1;32m--> 422\u001B[1;33m         \u001B[1;32mraise\u001B[0m \u001B[0mValueError\u001B[0m\u001B[1;33m(\u001B[0m\u001B[1;34mf\"Shape of passed values is {passed}, indices imply {implied}\"\u001B[0m\u001B[1;33m)\u001B[0m\u001B[1;33m\u001B[0m\u001B[1;33m\u001B[0m\u001B[0m\n\u001B[0m\u001B[0;32m    423\u001B[0m \u001B[1;33m\u001B[0m\u001B[0m\n\u001B[0;32m    424\u001B[0m \u001B[1;33m\u001B[0m\u001B[0m\n",
      "\u001B[1;31mValueError\u001B[0m: Shape of passed values is (36, 7), indices imply (36, 4)"
     ]
    }
   ],
   "source": [
    "categorical_variable = ['code_module']\n",
    "\n",
    "encoder = OneHotEncoder(handle_unknown='ignore', sparse=False)\n",
    "\n",
    "encoder.fit(students_filtered[categorical_variable])\n",
    "#students_filtered['course_id'] = pd.Categorical(students_filtered['code_module']).codes\n",
    "students_filtered_encoded = encoder.transform(students_filtered[['code_module']])\n",
    "students_filtered_encoded = np.concatenate((students_filtered_encoded, students_filtered.drop(categorical_variable, axis=1)), axis=1)\n",
    "\n",
    "cat_col_name = encoder.get_feature_names_out(categorical_variable)\n",
    "students_processed = pd.DataFrame(data=students_filtered_encoded, columns=cat_col_name)\n",
    "\n",
    "print(students_processed)"
   ],
   "metadata": {
    "collapsed": false
   }
  },
  {
   "cell_type": "markdown",
   "source": [
    "IN THE CODE ABOVE, TRY ONEHOT ENCODING, BUT IT SEEMS TO ENCODE ALL THE DATA, WHICH IS VERY WEIRD IM GOING TO SOME QUESTIONABLE MEASURES TO ENSURE THE DATA LOOKS FINE, THERE HAS TO BE A BETTER WAY TO DO THIS, (plus it has bugs so fix that)"
   ],
   "metadata": {
    "collapsed": false
   }
  }
 ],
 "metadata": {
  "kernelspec": {
   "display_name": "Python 3 (ipykernel)",
   "language": "python",
   "name": "python3"
  },
  "language_info": {
   "codemirror_mode": {
    "name": "ipython",
    "version": 3
   },
   "file_extension": ".py",
   "mimetype": "text/x-python",
   "name": "python",
   "nbconvert_exporter": "python",
   "pygments_lexer": "ipython3",
   "version": "3.9.16"
  }
 },
 "nbformat": 4,
 "nbformat_minor": 1
}
