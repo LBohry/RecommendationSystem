{
 "cells": [
  {
   "cell_type": "code",
   "execution_count": 2,
   "metadata": {},
   "outputs": [],
   "source": [
    "import pickle\n",
    "\n",
    "# Load the saved Word2Vec model from a pickle file\n",
    "with open('wordembed_model.pkl', 'rb') as f1:\n",
    "    wordembed_model = pickle.load(f1)\n",
    "# Load the datafile from a pickle file\n",
    "with open('preprocessed_df.pkl', 'rb') as f2:\n",
    "    preprocessed_df = pickle.load(f2)"
   ]
  },
  {
   "cell_type": "code",
   "execution_count": 2,
   "metadata": {},
   "outputs": [
    {
     "data": {
      "text/plain": [
       "[('spring', 0.9338988661766052),\n",
       " ('nodejs', 0.9252668023109436),\n",
       " ('mvc', 0.9231239557266235),\n",
       " ('framework', 0.9042681455612183),\n",
       " ('angular', 0.9036686420440674),\n",
       " ('angularjs', 0.8968015313148499),\n",
       " ('core', 0.8798183798789978),\n",
       " ('net', 0.8759362101554871),\n",
       " ('apis', 0.8741264939308167),\n",
       " ('wpf', 0.8730732798576355)]"
      ]
     },
     "execution_count": 2,
     "metadata": {},
     "output_type": "execute_result"
    }
   ],
   "source": [
    "wordembed_model.wv.most_similar('aspnet')\n"
   ]
  },
  {
   "cell_type": "code",
   "execution_count": 4,
   "metadata": {},
   "outputs": [
    {
     "data": {
      "text/html": [
       "<div>\n",
       "<style scoped>\n",
       "    .dataframe tbody tr th:only-of-type {\n",
       "        vertical-align: middle;\n",
       "    }\n",
       "\n",
       "    .dataframe tbody tr th {\n",
       "        vertical-align: top;\n",
       "    }\n",
       "\n",
       "    .dataframe thead th {\n",
       "        text-align: right;\n",
       "    }\n",
       "</style>\n",
       "<table border=\"1\" class=\"dataframe\">\n",
       "  <thead>\n",
       "    <tr style=\"text-align: right;\">\n",
       "      <th></th>\n",
       "      <th>CourseId</th>\n",
       "      <th>CourseTitle_lemmatized</th>\n",
       "      <th>Description_lemmatized</th>\n",
       "      <th>title_desc</th>\n",
       "      <th>title_desc_tokenized</th>\n",
       "      <th>title_desc_cleaned</th>\n",
       "    </tr>\n",
       "  </thead>\n",
       "  <tbody>\n",
       "    <tr>\n",
       "      <th>0</th>\n",
       "      <td>abts-advanced-topics</td>\n",
       "      <td>[biztalk, 2006, business, process, management]</td>\n",
       "      <td>[course, cover, business, process, management,...</td>\n",
       "      <td>biztalk 2006 business process management cours...</td>\n",
       "      <td>[biztalk, 2006, business, process, management,...</td>\n",
       "      <td>[biztalk, 2006, business, process, management,...</td>\n",
       "    </tr>\n",
       "    <tr>\n",
       "      <th>1</th>\n",
       "      <td>abts-fundamentals</td>\n",
       "      <td>[biztalk, 2006, fundamental]</td>\n",
       "      <td>[despite, trend, towards, service-oriented, ar...</td>\n",
       "      <td>biztalk 2006 fundamental despite trend towards...</td>\n",
       "      <td>[biztalk, 2006, fundamental, despite, trend, t...</td>\n",
       "      <td>[biztalk, 2006, fundamental, despite, trend, t...</td>\n",
       "    </tr>\n",
       "    <tr>\n",
       "      <th>2</th>\n",
       "      <td>agile-team-practice-fundamentals</td>\n",
       "      <td>[agile, team, practice, scrum]</td>\n",
       "      <td>[course, much, different, course, pluralsight,...</td>\n",
       "      <td>agile team practice scrum course much differen...</td>\n",
       "      <td>[agile, team, practice, scrum, course, much, d...</td>\n",
       "      <td>[agile, team, practice, scrum, course, much, d...</td>\n",
       "    </tr>\n",
       "    <tr>\n",
       "      <th>3</th>\n",
       "      <td>aspdotnet-advanced-topics</td>\n",
       "      <td>[asp.net, 3.5, advanced, topic]</td>\n",
       "      <td>[course, cover, advanced, topic, asp.net, 3.5,...</td>\n",
       "      <td>asp.net 3.5 advanced topic course cover advanc...</td>\n",
       "      <td>[asp.net, 3.5, advanced, topic, course, cover,...</td>\n",
       "      <td>[aspnet, 35, advanced, topic, course, cover, a...</td>\n",
       "    </tr>\n",
       "    <tr>\n",
       "      <th>4</th>\n",
       "      <td>aspdotnet-ajax-advanced-topics</td>\n",
       "      <td>[asp.net, ajax, advanced, topic]</td>\n",
       "      <td>[course, cover, advanced, topic, asp.net, ajax...</td>\n",
       "      <td>asp.net ajax advanced topic course cover advan...</td>\n",
       "      <td>[asp.net, ajax, advanced, topic, course, cover...</td>\n",
       "      <td>[aspnet, ajax, advanced, topic, course, cover,...</td>\n",
       "    </tr>\n",
       "  </tbody>\n",
       "</table>\n",
       "</div>"
      ],
      "text/plain": [
       "                           CourseId  \\\n",
       "0              abts-advanced-topics   \n",
       "1                 abts-fundamentals   \n",
       "2  agile-team-practice-fundamentals   \n",
       "3         aspdotnet-advanced-topics   \n",
       "4    aspdotnet-ajax-advanced-topics   \n",
       "\n",
       "                           CourseTitle_lemmatized  \\\n",
       "0  [biztalk, 2006, business, process, management]   \n",
       "1                    [biztalk, 2006, fundamental]   \n",
       "2                  [agile, team, practice, scrum]   \n",
       "3                 [asp.net, 3.5, advanced, topic]   \n",
       "4                [asp.net, ajax, advanced, topic]   \n",
       "\n",
       "                              Description_lemmatized  \\\n",
       "0  [course, cover, business, process, management,...   \n",
       "1  [despite, trend, towards, service-oriented, ar...   \n",
       "2  [course, much, different, course, pluralsight,...   \n",
       "3  [course, cover, advanced, topic, asp.net, 3.5,...   \n",
       "4  [course, cover, advanced, topic, asp.net, ajax...   \n",
       "\n",
       "                                          title_desc  \\\n",
       "0  biztalk 2006 business process management cours...   \n",
       "1  biztalk 2006 fundamental despite trend towards...   \n",
       "2  agile team practice scrum course much differen...   \n",
       "3  asp.net 3.5 advanced topic course cover advanc...   \n",
       "4  asp.net ajax advanced topic course cover advan...   \n",
       "\n",
       "                                title_desc_tokenized  \\\n",
       "0  [biztalk, 2006, business, process, management,...   \n",
       "1  [biztalk, 2006, fundamental, despite, trend, t...   \n",
       "2  [agile, team, practice, scrum, course, much, d...   \n",
       "3  [asp.net, 3.5, advanced, topic, course, cover,...   \n",
       "4  [asp.net, ajax, advanced, topic, course, cover...   \n",
       "\n",
       "                                  title_desc_cleaned  \n",
       "0  [biztalk, 2006, business, process, management,...  \n",
       "1  [biztalk, 2006, fundamental, despite, trend, t...  \n",
       "2  [agile, team, practice, scrum, course, much, d...  \n",
       "3  [aspnet, 35, advanced, topic, course, cover, a...  \n",
       "4  [aspnet, ajax, advanced, topic, course, cover,...  "
      ]
     },
     "execution_count": 4,
     "metadata": {},
     "output_type": "execute_result"
    }
   ],
   "source": [
    "preprocessed_df.head()"
   ]
  },
  {
   "cell_type": "code",
   "execution_count": 10,
   "metadata": {},
   "outputs": [],
   "source": [
    "from sklearn.metrics.pairwise import cosine_similarity\n",
    "import numpy as np\n",
    "from sklearn.metrics.pairwise import cosine_similarity\n",
    "from tensorflow.keras.preprocessing.sequence import pad_sequences\n",
    "# Get the embeddings for each course title and description\n",
    "target_course = preprocessed_df.loc[preprocessed_df['CourseId'] == 'abts-advanced-topics']['title_desc_cleaned'].tolist()\n",
    "target_embedding = np.concatenate([wordembed_model.wv[word] for word in target_course])\n",
    "max_len = max([len(np.concatenate([wordembed_model.wv[word] for word in row['title_desc_cleaned']])) for _, row in preprocessed_df.iterrows()])\n",
    "target_embedding_padded = pad_sequences([target_embedding.reshape(1,-1).T], maxlen=max_len, dtype='float32', padding='post')\n",
    "target_embedding_padded = target_embedding_padded.reshape(1,max_len)\n",
    "# Compute the similarity scores between the target course and all other courses in the dataset\n",
    "similarity_scores = {}\n",
    "for index, row in preprocessed_df.iterrows():\n",
    "    course_id = row['CourseId']\n",
    "    course_title_desc = row['title_desc_cleaned']\n",
    "    course_embedding = np.concatenate([wordembed_model.wv[word] for word in course_title_desc])\n",
    "    course_embedding_padded = pad_sequences([course_embedding], maxlen=max_len, dtype='float32', padding='post').reshape(1,max_len)\n",
    "    similarity_scores[course_id] = cosine_similarity(target_embedding_padded, course_embedding_padded)[0][0]\n",
    "    \n",
    "# Sort the courses by similarity score and return the top n courses\n",
    "similar_courses = sorted(similarity_scores.items(), key=lambda x: x[1], reverse=True)[:20]"
   ]
  },
  {
   "cell_type": "code",
   "execution_count": 11,
   "metadata": {},
   "outputs": [
    {
     "data": {
      "text/plain": [
       "[('abts-advanced-topics', 0.9999999),\n",
       " ('bts09-advanced-topics', 0.7992474),\n",
       " ('sql-server-bi', 0.46521413),\n",
       " ('citrix-xendesktop-7-management', 0.42337668),\n",
       " ('internet-explorer-10-introduction', 0.36481237),\n",
       " ('configuring-sharepoint-2013-farms-powershell', 0.3574193),\n",
       " ('silverlight-ria-services-advanced-topics', 0.34988526),\n",
       " ('windows-server-vnext-first-look', 0.3492698),\n",
       " ('mse-advanced-topics', 0.33731195),\n",
       " ('exchange-online-administration', 0.33448663),\n",
       " ('management-strategies-increase-productivity', 0.32744846),\n",
       " ('sharepoint-business-services', 0.32334825),\n",
       " ('windows-server-2003-active-directory-fundamentals', 0.31869715),\n",
       " ('exchange-2013-virtualization', 0.3169784),\n",
       " ('yammer-business-professionals', 0.31246552),\n",
       " ('wmi-ps', 0.31077844),\n",
       " ('wf-advanced-topics', 0.3044471),\n",
       " ('add-profit-to-business-by-adding-purpose', 0.3038302),\n",
       " ('end-user-security-awareness', 0.30329582),\n",
       " ('working-with-entities-in-drupal-7', 0.29937756)]"
      ]
     },
     "execution_count": 11,
     "metadata": {},
     "output_type": "execute_result"
    }
   ],
   "source": [
    "similar_courses"
   ]
  },
  {
   "cell_type": "code",
   "execution_count": 4,
   "metadata": {},
   "outputs": [
    {
     "data": {
      "text/plain": [
       "(8011, 6)"
      ]
     },
     "execution_count": 4,
     "metadata": {},
     "output_type": "execute_result"
    }
   ],
   "source": [
    "preprocessed_df.shape"
   ]
  },
  {
   "cell_type": "code",
   "execution_count": 8,
   "metadata": {},
   "outputs": [],
   "source": [
    "max_len = max([len(np.concatenate([wordembed_model.wv[word] for word in row['title_desc_cleaned']])) for _, row in preprocessed_df.iterrows()])\n",
    "\n",
    "def get_padded_embedding(course_id : str):\n",
    "    course = preprocessed_df.loc[preprocessed_df['CourseId'] == course_id]['title_desc_cleaned'].tolist()\n",
    "    embedding = np.concatenate([wordembed_model.wv[word] for word in course])\n",
    "    padded_embedding = pad_sequences([embedding.reshape(1,-1).T], maxlen=max_len, dtype='float32', padding='post').reshape(1, max_len)\n",
    "    return padded_embedding\n",
    "\n",
    "similarity_matrix = np.zeros((8011, 8011))\n",
    "embeddings_matrix = np.vstack(preprocessed_df['CourseId'].apply(get_padded_embedding))\n"
   ]
  },
  {
   "cell_type": "code",
   "execution_count": null,
   "metadata": {},
   "outputs": [],
   "source": []
  },
  {
   "cell_type": "code",
   "execution_count": 9,
   "metadata": {},
   "outputs": [
    {
     "name": "stdout",
     "output_type": "stream",
     "text": [
      "[ 0.30212376  0.11837974 -0.03773297 ...  0.          0.\n",
      "  0.        ]\n"
     ]
    }
   ],
   "source": [
    "print(embeddings_matrix[0])"
   ]
  },
  {
   "cell_type": "code",
   "execution_count": 13,
   "metadata": {},
   "outputs": [
    {
     "name": "stdout",
     "output_type": "stream",
     "text": [
      "[[ 0.30212376  0.11837974 -0.03773297 ...  0.          0.\n",
      "   0.        ]]\n"
     ]
    }
   ],
   "source": [
    "print(target_embedding_padded)"
   ]
  },
  {
   "attachments": {},
   "cell_type": "markdown",
   "metadata": {},
   "source": [
    "## Nice :) the embeddings match so there are no indexes problem or something like that, safe to calculate similarities now"
   ]
  },
  {
   "cell_type": "code",
   "execution_count": 14,
   "metadata": {},
   "outputs": [],
   "source": [
    "\n",
    "similarity_matrix = cosine_similarity(embeddings_matrix)\n"
   ]
  },
  {
   "cell_type": "code",
   "execution_count": 16,
   "metadata": {},
   "outputs": [
    {
     "name": "stdout",
     "output_type": "stream",
     "text": [
      "[0.9999998  0.1222927  0.09713293 ... 0.09917957 0.12804884 0.0645486 ]\n"
     ]
    }
   ],
   "source": [
    "print(similarity_matrix[0])"
   ]
  },
  {
   "cell_type": "code",
   "execution_count": 17,
   "metadata": {},
   "outputs": [],
   "source": [
    "import pandas as pd \n",
    "course_ids = preprocessed_df['CourseId'].tolist()\n",
    "similarity_df = pd.DataFrame(similarity_matrix, index=course_ids, columns=course_ids)"
   ]
  },
  {
   "cell_type": "code",
   "execution_count": 18,
   "metadata": {},
   "outputs": [
    {
     "data": {
      "text/html": [
       "<div>\n",
       "<style scoped>\n",
       "    .dataframe tbody tr th:only-of-type {\n",
       "        vertical-align: middle;\n",
       "    }\n",
       "\n",
       "    .dataframe tbody tr th {\n",
       "        vertical-align: top;\n",
       "    }\n",
       "\n",
       "    .dataframe thead th {\n",
       "        text-align: right;\n",
       "    }\n",
       "</style>\n",
       "<table border=\"1\" class=\"dataframe\">\n",
       "  <thead>\n",
       "    <tr style=\"text-align: right;\">\n",
       "      <th></th>\n",
       "      <th>abts-advanced-topics</th>\n",
       "      <th>abts-fundamentals</th>\n",
       "      <th>agile-team-practice-fundamentals</th>\n",
       "      <th>aspdotnet-advanced-topics</th>\n",
       "      <th>aspdotnet-ajax-advanced-topics</th>\n",
       "      <th>aspdotnet-ajax-fundamentals</th>\n",
       "      <th>aspdotnet-ajax-jscript</th>\n",
       "      <th>aspdotnet-data</th>\n",
       "      <th>aspdotnet-fundamentals</th>\n",
       "      <th>aspdotnet-mvc</th>\n",
       "      <th>...</th>\n",
       "      <th>css-grid-bootstrap-4-creating-site</th>\n",
       "      <th>designing-implementing-managing-vmware-vsan-production</th>\n",
       "      <th>aws-amazon-rds</th>\n",
       "      <th>microsoft-cognitive-services-bing-entity-search</th>\n",
       "      <th>microsoft-azure-stack-solutions-architectural-patterns</th>\n",
       "      <th>nunit-moq-mocking</th>\n",
       "      <th>identity-access-management-aws-users</th>\n",
       "      <th>secure-coding-using-components-known-vulnerabilities</th>\n",
       "      <th>aws-s3-implementing</th>\n",
       "      <th>identity-access-management-aws-roles-groups</th>\n",
       "    </tr>\n",
       "  </thead>\n",
       "  <tbody>\n",
       "    <tr>\n",
       "      <th>abts-advanced-topics</th>\n",
       "      <td>1.000000</td>\n",
       "      <td>0.122293</td>\n",
       "      <td>0.097133</td>\n",
       "      <td>0.173345</td>\n",
       "      <td>0.140116</td>\n",
       "      <td>0.127896</td>\n",
       "      <td>0.094861</td>\n",
       "      <td>0.107397</td>\n",
       "      <td>0.114121</td>\n",
       "      <td>0.113606</td>\n",
       "      <td>...</td>\n",
       "      <td>0.067519</td>\n",
       "      <td>0.128133</td>\n",
       "      <td>0.084191</td>\n",
       "      <td>0.098118</td>\n",
       "      <td>0.112382</td>\n",
       "      <td>0.070193</td>\n",
       "      <td>0.130953</td>\n",
       "      <td>0.099180</td>\n",
       "      <td>0.128049</td>\n",
       "      <td>0.064549</td>\n",
       "    </tr>\n",
       "    <tr>\n",
       "      <th>abts-fundamentals</th>\n",
       "      <td>0.122293</td>\n",
       "      <td>0.999999</td>\n",
       "      <td>0.171751</td>\n",
       "      <td>0.130490</td>\n",
       "      <td>0.098779</td>\n",
       "      <td>0.243477</td>\n",
       "      <td>0.070059</td>\n",
       "      <td>0.189584</td>\n",
       "      <td>0.228489</td>\n",
       "      <td>0.214744</td>\n",
       "      <td>...</td>\n",
       "      <td>0.176717</td>\n",
       "      <td>0.212376</td>\n",
       "      <td>0.143262</td>\n",
       "      <td>0.187703</td>\n",
       "      <td>0.172310</td>\n",
       "      <td>0.169284</td>\n",
       "      <td>0.190094</td>\n",
       "      <td>0.225933</td>\n",
       "      <td>0.198061</td>\n",
       "      <td>0.147549</td>\n",
       "    </tr>\n",
       "    <tr>\n",
       "      <th>agile-team-practice-fundamentals</th>\n",
       "      <td>0.097133</td>\n",
       "      <td>0.171751</td>\n",
       "      <td>1.000000</td>\n",
       "      <td>0.127953</td>\n",
       "      <td>0.116710</td>\n",
       "      <td>0.198002</td>\n",
       "      <td>0.139012</td>\n",
       "      <td>0.180030</td>\n",
       "      <td>0.227555</td>\n",
       "      <td>0.171845</td>\n",
       "      <td>...</td>\n",
       "      <td>0.222326</td>\n",
       "      <td>0.201010</td>\n",
       "      <td>0.181796</td>\n",
       "      <td>0.203916</td>\n",
       "      <td>0.223771</td>\n",
       "      <td>0.176844</td>\n",
       "      <td>0.216220</td>\n",
       "      <td>0.211967</td>\n",
       "      <td>0.208391</td>\n",
       "      <td>0.214533</td>\n",
       "    </tr>\n",
       "    <tr>\n",
       "      <th>aspdotnet-advanced-topics</th>\n",
       "      <td>0.173345</td>\n",
       "      <td>0.130490</td>\n",
       "      <td>0.127953</td>\n",
       "      <td>1.000000</td>\n",
       "      <td>0.754955</td>\n",
       "      <td>0.169838</td>\n",
       "      <td>0.545065</td>\n",
       "      <td>0.160963</td>\n",
       "      <td>0.173508</td>\n",
       "      <td>0.175885</td>\n",
       "      <td>...</td>\n",
       "      <td>0.080996</td>\n",
       "      <td>0.108015</td>\n",
       "      <td>0.109575</td>\n",
       "      <td>0.092359</td>\n",
       "      <td>0.090069</td>\n",
       "      <td>0.077786</td>\n",
       "      <td>0.113325</td>\n",
       "      <td>0.112522</td>\n",
       "      <td>0.135488</td>\n",
       "      <td>0.089197</td>\n",
       "    </tr>\n",
       "    <tr>\n",
       "      <th>aspdotnet-ajax-advanced-topics</th>\n",
       "      <td>0.140116</td>\n",
       "      <td>0.098779</td>\n",
       "      <td>0.116710</td>\n",
       "      <td>0.754955</td>\n",
       "      <td>1.000000</td>\n",
       "      <td>0.141311</td>\n",
       "      <td>0.528729</td>\n",
       "      <td>0.150439</td>\n",
       "      <td>0.149767</td>\n",
       "      <td>0.165245</td>\n",
       "      <td>...</td>\n",
       "      <td>0.097408</td>\n",
       "      <td>0.094236</td>\n",
       "      <td>0.125073</td>\n",
       "      <td>0.111571</td>\n",
       "      <td>0.104162</td>\n",
       "      <td>0.076494</td>\n",
       "      <td>0.127439</td>\n",
       "      <td>0.108330</td>\n",
       "      <td>0.114829</td>\n",
       "      <td>0.099378</td>\n",
       "    </tr>\n",
       "  </tbody>\n",
       "</table>\n",
       "<p>5 rows × 8011 columns</p>\n",
       "</div>"
      ],
      "text/plain": [
       "                                  abts-advanced-topics  abts-fundamentals  \\\n",
       "abts-advanced-topics                          1.000000           0.122293   \n",
       "abts-fundamentals                             0.122293           0.999999   \n",
       "agile-team-practice-fundamentals              0.097133           0.171751   \n",
       "aspdotnet-advanced-topics                     0.173345           0.130490   \n",
       "aspdotnet-ajax-advanced-topics                0.140116           0.098779   \n",
       "\n",
       "                                  agile-team-practice-fundamentals  \\\n",
       "abts-advanced-topics                                      0.097133   \n",
       "abts-fundamentals                                         0.171751   \n",
       "agile-team-practice-fundamentals                          1.000000   \n",
       "aspdotnet-advanced-topics                                 0.127953   \n",
       "aspdotnet-ajax-advanced-topics                            0.116710   \n",
       "\n",
       "                                  aspdotnet-advanced-topics  \\\n",
       "abts-advanced-topics                               0.173345   \n",
       "abts-fundamentals                                  0.130490   \n",
       "agile-team-practice-fundamentals                   0.127953   \n",
       "aspdotnet-advanced-topics                          1.000000   \n",
       "aspdotnet-ajax-advanced-topics                     0.754955   \n",
       "\n",
       "                                  aspdotnet-ajax-advanced-topics  \\\n",
       "abts-advanced-topics                                    0.140116   \n",
       "abts-fundamentals                                       0.098779   \n",
       "agile-team-practice-fundamentals                        0.116710   \n",
       "aspdotnet-advanced-topics                               0.754955   \n",
       "aspdotnet-ajax-advanced-topics                          1.000000   \n",
       "\n",
       "                                  aspdotnet-ajax-fundamentals  \\\n",
       "abts-advanced-topics                                 0.127896   \n",
       "abts-fundamentals                                    0.243477   \n",
       "agile-team-practice-fundamentals                     0.198002   \n",
       "aspdotnet-advanced-topics                            0.169838   \n",
       "aspdotnet-ajax-advanced-topics                       0.141311   \n",
       "\n",
       "                                  aspdotnet-ajax-jscript  aspdotnet-data  \\\n",
       "abts-advanced-topics                            0.094861        0.107397   \n",
       "abts-fundamentals                               0.070059        0.189584   \n",
       "agile-team-practice-fundamentals                0.139012        0.180030   \n",
       "aspdotnet-advanced-topics                       0.545065        0.160963   \n",
       "aspdotnet-ajax-advanced-topics                  0.528729        0.150439   \n",
       "\n",
       "                                  aspdotnet-fundamentals  aspdotnet-mvc  ...  \\\n",
       "abts-advanced-topics                            0.114121       0.113606  ...   \n",
       "abts-fundamentals                               0.228489       0.214744  ...   \n",
       "agile-team-practice-fundamentals                0.227555       0.171845  ...   \n",
       "aspdotnet-advanced-topics                       0.173508       0.175885  ...   \n",
       "aspdotnet-ajax-advanced-topics                  0.149767       0.165245  ...   \n",
       "\n",
       "                                  css-grid-bootstrap-4-creating-site  \\\n",
       "abts-advanced-topics                                        0.067519   \n",
       "abts-fundamentals                                           0.176717   \n",
       "agile-team-practice-fundamentals                            0.222326   \n",
       "aspdotnet-advanced-topics                                   0.080996   \n",
       "aspdotnet-ajax-advanced-topics                              0.097408   \n",
       "\n",
       "                                  designing-implementing-managing-vmware-vsan-production  \\\n",
       "abts-advanced-topics                                                       0.128133        \n",
       "abts-fundamentals                                                          0.212376        \n",
       "agile-team-practice-fundamentals                                           0.201010        \n",
       "aspdotnet-advanced-topics                                                  0.108015        \n",
       "aspdotnet-ajax-advanced-topics                                             0.094236        \n",
       "\n",
       "                                  aws-amazon-rds  \\\n",
       "abts-advanced-topics                    0.084191   \n",
       "abts-fundamentals                       0.143262   \n",
       "agile-team-practice-fundamentals        0.181796   \n",
       "aspdotnet-advanced-topics               0.109575   \n",
       "aspdotnet-ajax-advanced-topics          0.125073   \n",
       "\n",
       "                                  microsoft-cognitive-services-bing-entity-search  \\\n",
       "abts-advanced-topics                                                     0.098118   \n",
       "abts-fundamentals                                                        0.187703   \n",
       "agile-team-practice-fundamentals                                         0.203916   \n",
       "aspdotnet-advanced-topics                                                0.092359   \n",
       "aspdotnet-ajax-advanced-topics                                           0.111571   \n",
       "\n",
       "                                  microsoft-azure-stack-solutions-architectural-patterns  \\\n",
       "abts-advanced-topics                                                       0.112382        \n",
       "abts-fundamentals                                                          0.172310        \n",
       "agile-team-practice-fundamentals                                           0.223771        \n",
       "aspdotnet-advanced-topics                                                  0.090069        \n",
       "aspdotnet-ajax-advanced-topics                                             0.104162        \n",
       "\n",
       "                                  nunit-moq-mocking  \\\n",
       "abts-advanced-topics                       0.070193   \n",
       "abts-fundamentals                          0.169284   \n",
       "agile-team-practice-fundamentals           0.176844   \n",
       "aspdotnet-advanced-topics                  0.077786   \n",
       "aspdotnet-ajax-advanced-topics             0.076494   \n",
       "\n",
       "                                  identity-access-management-aws-users  \\\n",
       "abts-advanced-topics                                          0.130953   \n",
       "abts-fundamentals                                             0.190094   \n",
       "agile-team-practice-fundamentals                              0.216220   \n",
       "aspdotnet-advanced-topics                                     0.113325   \n",
       "aspdotnet-ajax-advanced-topics                                0.127439   \n",
       "\n",
       "                                  secure-coding-using-components-known-vulnerabilities  \\\n",
       "abts-advanced-topics                                                       0.099180      \n",
       "abts-fundamentals                                                          0.225933      \n",
       "agile-team-practice-fundamentals                                           0.211967      \n",
       "aspdotnet-advanced-topics                                                  0.112522      \n",
       "aspdotnet-ajax-advanced-topics                                             0.108330      \n",
       "\n",
       "                                  aws-s3-implementing  \\\n",
       "abts-advanced-topics                         0.128049   \n",
       "abts-fundamentals                            0.198061   \n",
       "agile-team-practice-fundamentals             0.208391   \n",
       "aspdotnet-advanced-topics                    0.135488   \n",
       "aspdotnet-ajax-advanced-topics               0.114829   \n",
       "\n",
       "                                  identity-access-management-aws-roles-groups  \n",
       "abts-advanced-topics                                                 0.064549  \n",
       "abts-fundamentals                                                    0.147549  \n",
       "agile-team-practice-fundamentals                                     0.214533  \n",
       "aspdotnet-advanced-topics                                            0.089197  \n",
       "aspdotnet-ajax-advanced-topics                                       0.099378  \n",
       "\n",
       "[5 rows x 8011 columns]"
      ]
     },
     "execution_count": 18,
     "metadata": {},
     "output_type": "execute_result"
    }
   ],
   "source": [
    "similarity_df.head()"
   ]
  },
  {
   "cell_type": "code",
   "execution_count": 22,
   "metadata": {},
   "outputs": [
    {
     "data": {
      "text/plain": [
       "bts09-advanced-topics                           0.799248\n",
       "sql-server-bi                                   0.465214\n",
       "citrix-xendesktop-7-management                  0.423377\n",
       "internet-explorer-10-introduction               0.364812\n",
       "configuring-sharepoint-2013-farms-powershell    0.357419\n",
       "silverlight-ria-services-advanced-topics        0.349885\n",
       "windows-server-vnext-first-look                 0.349270\n",
       "mse-advanced-topics                             0.337312\n",
       "exchange-online-administration                  0.334487\n",
       "management-strategies-increase-productivity     0.327449\n",
       "Name: abts-advanced-topics, dtype: float32"
      ]
     },
     "execution_count": 22,
     "metadata": {},
     "output_type": "execute_result"
    }
   ],
   "source": [
    "target_course_id = 'abts-advanced-topics'\n",
    "target_course_similarity = similarity_df.loc[target_course_id]\n",
    "top_10_similar_courses = target_course_similarity.sort_values(ascending=False).head(11)[1:]\n",
    "top_10_similar_courses"
   ]
  },
  {
   "cell_type": "code",
   "execution_count": 25,
   "metadata": {},
   "outputs": [],
   "source": [
    "file_name = 'courses_similarity_df.pkl'\n",
    "similarity_df.to_pickle(file_name)\n"
   ]
  },
  {
   "attachments": {},
   "cell_type": "markdown",
   "metadata": {},
   "source": []
  },
  {
   "cell_type": "code",
   "execution_count": 24,
   "metadata": {},
   "outputs": [
    {
     "data": {
      "text/plain": [
       "[('bts09-advanced-topics', 0.7992475032806396),\n",
       " ('sql-server-bi', 0.4652140736579895),\n",
       " ('citrix-xendesktop-7-management', 0.42337659001350403),\n",
       " ('internet-explorer-10-introduction', 0.3648124039173126),\n",
       " ('configuring-sharepoint-2013-farms-powershell', 0.35741934180259705),\n",
       " ('silverlight-ria-services-advanced-topics', 0.3498851954936981),\n",
       " ('windows-server-vnext-first-look', 0.3492697775363922),\n",
       " ('mse-advanced-topics', 0.33731192350387573),\n",
       " ('exchange-online-administration', 0.33448660373687744),\n",
       " ('management-strategies-increase-productivity', 0.3274485170841217),\n",
       " ('sharepoint-business-services', 0.3233482539653778),\n",
       " ('windows-server-2003-active-directory-fundamentals', 0.3186971843242645),\n",
       " ('exchange-2013-virtualization', 0.31697842478752136),\n",
       " ('yammer-business-professionals', 0.31246551871299744),\n",
       " ('wmi-ps', 0.3107783794403076),\n",
       " ('wf-advanced-topics', 0.30444714426994324),\n",
       " ('add-profit-to-business-by-adding-purpose', 0.30383020639419556),\n",
       " ('end-user-security-awareness', 0.3032958209514618),\n",
       " ('working-with-entities-in-drupal-7', 0.29937759041786194),\n",
       " ('sscp2015-incident-response-recovery', 0.29891759157180786)]"
      ]
     },
     "execution_count": 24,
     "metadata": {},
     "output_type": "execute_result"
    }
   ],
   "source": [
    "#we might wanna return a list later as a response for the api\n",
    "n = 20\n",
    "top_n_similar_courses_with_scores = target_course_similarity.sort_values(ascending=False).head(n + 1)[1:]\n",
    "top_n_similar_courses_with_scores = top_n_similar_courses_with_scores.to_dict()\n",
    "top_n_similar_courses_with_scores = list(top_n_similar_courses_with_scores.items())\n",
    "top_n_similar_courses_with_scores\n"
   ]
  }
 ],
 "metadata": {
  "kernelspec": {
   "display_name": "Python 3",
   "language": "python",
   "name": "python3"
  },
  "language_info": {
   "codemirror_mode": {
    "name": "ipython",
    "version": 3
   },
   "file_extension": ".py",
   "mimetype": "text/x-python",
   "name": "python",
   "nbconvert_exporter": "python",
   "pygments_lexer": "ipython3",
   "version": "3.11.0"
  },
  "orig_nbformat": 4
 },
 "nbformat": 4,
 "nbformat_minor": 2
}
