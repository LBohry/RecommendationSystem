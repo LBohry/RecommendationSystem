{
 "cells": [
  {
   "cell_type": "code",
   "execution_count": 2,
   "metadata": {},
   "outputs": [],
   "source": [
    "import pickle\n",
    "\n",
    "# Load the saved Word2Vec model from a pickle file\n",
    "with open('wordembed_model.pkl', 'rb') as f1:\n",
    "    wordembed_model = pickle.load(f1)\n",
    "# Load the datafile from a pickle file\n",
    "with open('preprocessed_df.pkl', 'rb') as f2:\n",
    "    preprocessed_df = pickle.load(f2)"
   ]
  },
  {
   "cell_type": "code",
   "execution_count": 2,
   "metadata": {},
   "outputs": [
    {
     "data": {
      "text/plain": [
       "[('spring', 0.9338988661766052),\n",
       " ('nodejs', 0.9252668023109436),\n",
       " ('mvc', 0.9231239557266235),\n",
       " ('framework', 0.9042681455612183),\n",
       " ('angular', 0.9036686420440674),\n",
       " ('angularjs', 0.8968015313148499),\n",
       " ('core', 0.8798183798789978),\n",
       " ('net', 0.8759362101554871),\n",
       " ('apis', 0.8741264939308167),\n",
       " ('wpf', 0.8730732798576355)]"
      ]
     },
     "execution_count": 2,
     "metadata": {},
     "output_type": "execute_result"
    }
   ],
   "source": [
    "wordembed_model.wv.most_similar('aspnet')\n"
   ]
  },
  {
   "cell_type": "code",
   "execution_count": 4,
   "metadata": {},
   "outputs": [
    {
     "data": {
      "text/html": [
       "<div>\n",
       "<style scoped>\n",
       "    .dataframe tbody tr th:only-of-type {\n",
       "        vertical-align: middle;\n",
       "    }\n",
       "\n",
       "    .dataframe tbody tr th {\n",
       "        vertical-align: top;\n",
       "    }\n",
       "\n",
       "    .dataframe thead th {\n",
       "        text-align: right;\n",
       "    }\n",
       "</style>\n",
       "<table border=\"1\" class=\"dataframe\">\n",
       "  <thead>\n",
       "    <tr style=\"text-align: right;\">\n",
       "      <th></th>\n",
       "      <th>CourseId</th>\n",
       "      <th>CourseTitle_lemmatized</th>\n",
       "      <th>Description_lemmatized</th>\n",
       "      <th>title_desc</th>\n",
       "      <th>title_desc_tokenized</th>\n",
       "      <th>title_desc_cleaned</th>\n",
       "    </tr>\n",
       "  </thead>\n",
       "  <tbody>\n",
       "    <tr>\n",
       "      <th>0</th>\n",
       "      <td>abts-advanced-topics</td>\n",
       "      <td>[biztalk, 2006, business, process, management]</td>\n",
       "      <td>[course, cover, business, process, management,...</td>\n",
       "      <td>biztalk 2006 business process management cours...</td>\n",
       "      <td>[biztalk, 2006, business, process, management,...</td>\n",
       "      <td>[biztalk, 2006, business, process, management,...</td>\n",
       "    </tr>\n",
       "    <tr>\n",
       "      <th>1</th>\n",
       "      <td>abts-fundamentals</td>\n",
       "      <td>[biztalk, 2006, fundamental]</td>\n",
       "      <td>[despite, trend, towards, service-oriented, ar...</td>\n",
       "      <td>biztalk 2006 fundamental despite trend towards...</td>\n",
       "      <td>[biztalk, 2006, fundamental, despite, trend, t...</td>\n",
       "      <td>[biztalk, 2006, fundamental, despite, trend, t...</td>\n",
       "    </tr>\n",
       "    <tr>\n",
       "      <th>2</th>\n",
       "      <td>agile-team-practice-fundamentals</td>\n",
       "      <td>[agile, team, practice, scrum]</td>\n",
       "      <td>[course, much, different, course, pluralsight,...</td>\n",
       "      <td>agile team practice scrum course much differen...</td>\n",
       "      <td>[agile, team, practice, scrum, course, much, d...</td>\n",
       "      <td>[agile, team, practice, scrum, course, much, d...</td>\n",
       "    </tr>\n",
       "    <tr>\n",
       "      <th>3</th>\n",
       "      <td>aspdotnet-advanced-topics</td>\n",
       "      <td>[asp.net, 3.5, advanced, topic]</td>\n",
       "      <td>[course, cover, advanced, topic, asp.net, 3.5,...</td>\n",
       "      <td>asp.net 3.5 advanced topic course cover advanc...</td>\n",
       "      <td>[asp.net, 3.5, advanced, topic, course, cover,...</td>\n",
       "      <td>[aspnet, 35, advanced, topic, course, cover, a...</td>\n",
       "    </tr>\n",
       "    <tr>\n",
       "      <th>4</th>\n",
       "      <td>aspdotnet-ajax-advanced-topics</td>\n",
       "      <td>[asp.net, ajax, advanced, topic]</td>\n",
       "      <td>[course, cover, advanced, topic, asp.net, ajax...</td>\n",
       "      <td>asp.net ajax advanced topic course cover advan...</td>\n",
       "      <td>[asp.net, ajax, advanced, topic, course, cover...</td>\n",
       "      <td>[aspnet, ajax, advanced, topic, course, cover,...</td>\n",
       "    </tr>\n",
       "  </tbody>\n",
       "</table>\n",
       "</div>"
      ],
      "text/plain": [
       "                           CourseId  \\\n",
       "0              abts-advanced-topics   \n",
       "1                 abts-fundamentals   \n",
       "2  agile-team-practice-fundamentals   \n",
       "3         aspdotnet-advanced-topics   \n",
       "4    aspdotnet-ajax-advanced-topics   \n",
       "\n",
       "                           CourseTitle_lemmatized  \\\n",
       "0  [biztalk, 2006, business, process, management]   \n",
       "1                    [biztalk, 2006, fundamental]   \n",
       "2                  [agile, team, practice, scrum]   \n",
       "3                 [asp.net, 3.5, advanced, topic]   \n",
       "4                [asp.net, ajax, advanced, topic]   \n",
       "\n",
       "                              Description_lemmatized  \\\n",
       "0  [course, cover, business, process, management,...   \n",
       "1  [despite, trend, towards, service-oriented, ar...   \n",
       "2  [course, much, different, course, pluralsight,...   \n",
       "3  [course, cover, advanced, topic, asp.net, 3.5,...   \n",
       "4  [course, cover, advanced, topic, asp.net, ajax...   \n",
       "\n",
       "                                          title_desc  \\\n",
       "0  biztalk 2006 business process management cours...   \n",
       "1  biztalk 2006 fundamental despite trend towards...   \n",
       "2  agile team practice scrum course much differen...   \n",
       "3  asp.net 3.5 advanced topic course cover advanc...   \n",
       "4  asp.net ajax advanced topic course cover advan...   \n",
       "\n",
       "                                title_desc_tokenized  \\\n",
       "0  [biztalk, 2006, business, process, management,...   \n",
       "1  [biztalk, 2006, fundamental, despite, trend, t...   \n",
       "2  [agile, team, practice, scrum, course, much, d...   \n",
       "3  [asp.net, 3.5, advanced, topic, course, cover,...   \n",
       "4  [asp.net, ajax, advanced, topic, course, cover...   \n",
       "\n",
       "                                  title_desc_cleaned  \n",
       "0  [biztalk, 2006, business, process, management,...  \n",
       "1  [biztalk, 2006, fundamental, despite, trend, t...  \n",
       "2  [agile, team, practice, scrum, course, much, d...  \n",
       "3  [aspnet, 35, advanced, topic, course, cover, a...  \n",
       "4  [aspnet, ajax, advanced, topic, course, cover,...  "
      ]
     },
     "execution_count": 4,
     "metadata": {},
     "output_type": "execute_result"
    }
   ],
   "source": [
    "preprocessed_df.head()"
   ]
  },
  {
   "cell_type": "code",
   "execution_count": 10,
   "metadata": {},
   "outputs": [],
   "source": [
    "from sklearn.metrics.pairwise import cosine_similarity\n",
    "import numpy as np\n",
    "from sklearn.metrics.pairwise import cosine_similarity\n",
    "from tensorflow.keras.preprocessing.sequence import pad_sequences\n",
    "\n",
    "# Get the embeddings for each course title and description\n",
    "target_course = preprocessed_df.loc[preprocessed_df['CourseId'] == 'abts-advanced-topics']['title_desc_cleaned'].tolist()\n",
    "target_embedding = np.concatenate([wordembed_model.wv[word] for word in target_course])\n",
    "\n",
    "max_len = max([len(np.concatenate([wordembed_model.wv[word] for word in row['title_desc_cleaned']])) for _, row in preprocessed_df.iterrows()])\n",
    "\n",
    "target_embedding_padded = pad_sequences([target_embedding.reshape(1,-1).T], maxlen=max_len, dtype='float32', padding='post')\n",
    "target_embedding_padded = target_embedding_padded.reshape(1,max_len)\n",
    "\n",
    "# Compute the similarity scores between the target course and all other courses in the dataset\n",
    "similarity_scores = {}\n",
    "for index, row in preprocessed_df.iterrows():\n",
    "    course_id = row['CourseId']\n",
    "    course_title_desc = row['title_desc_cleaned']\n",
    "    course_embedding = np.concatenate([wordembed_model.wv[word] for word in course_title_desc])\n",
    "\n",
    "    course_embedding_padded = pad_sequences([course_embedding], maxlen=max_len, dtype='float32', padding='post').reshape(1,max_len)\n",
    "    similarity_scores[course_id] = cosine_similarity(target_embedding_padded, course_embedding_padded)[0][0]\n",
    "    \n",
    "# Sort the courses by similarity score and return the top n courses\n",
    "similar_courses = sorted(similarity_scores.items(), key=lambda x: x[1], reverse=True)[:20]"
   ]
  },
  {
   "cell_type": "code",
   "execution_count": 11,
   "metadata": {},
   "outputs": [
    {
     "data": {
      "text/plain": [
       "[('abts-advanced-topics', 0.9999999),\n",
       " ('bts09-advanced-topics', 0.7992474),\n",
       " ('sql-server-bi', 0.46521413),\n",
       " ('citrix-xendesktop-7-management', 0.42337668),\n",
       " ('internet-explorer-10-introduction', 0.36481237),\n",
       " ('configuring-sharepoint-2013-farms-powershell', 0.3574193),\n",
       " ('silverlight-ria-services-advanced-topics', 0.34988526),\n",
       " ('windows-server-vnext-first-look', 0.3492698),\n",
       " ('mse-advanced-topics', 0.33731195),\n",
       " ('exchange-online-administration', 0.33448663),\n",
       " ('management-strategies-increase-productivity', 0.32744846),\n",
       " ('sharepoint-business-services', 0.32334825),\n",
       " ('windows-server-2003-active-directory-fundamentals', 0.31869715),\n",
       " ('exchange-2013-virtualization', 0.3169784),\n",
       " ('yammer-business-professionals', 0.31246552),\n",
       " ('wmi-ps', 0.31077844),\n",
       " ('wf-advanced-topics', 0.3044471),\n",
       " ('add-profit-to-business-by-adding-purpose', 0.3038302),\n",
       " ('end-user-security-awareness', 0.30329582),\n",
       " ('working-with-entities-in-drupal-7', 0.29937756)]"
      ]
     },
     "execution_count": 11,
     "metadata": {},
     "output_type": "execute_result"
    }
   ],
   "source": [
    "similar_courses"
   ]
  },
  {
   "cell_type": "code",
   "execution_count": 4,
   "metadata": {},
   "outputs": [
    {
     "data": {
      "text/plain": [
       "(8011, 6)"
      ]
     },
     "execution_count": 4,
     "metadata": {},
     "output_type": "execute_result"
    }
   ],
   "source": [
    "preprocessed_df.shape"
   ]
  },
  {
   "cell_type": "code",
   "execution_count": 8,
   "metadata": {},
   "outputs": [],
   "source": [
    "max_len = max([len(np.concatenate([wordembed_model.wv[word] for word in row['title_desc_cleaned']])) for _, row in preprocessed_df.iterrows()])\n",
    "\n",
    "def get_padded_embedding(course_id : str):\n",
    "    course = preprocessed_df.loc[preprocessed_df['CourseId'] == course_id]['title_desc_cleaned'].tolist()\n",
    "    embedding = np.concatenate([wordembed_model.wv[word] for word in course])\n",
    "    padded_embedding = pad_sequences([embedding.reshape(1,-1).T], maxlen=max_len, dtype='float32', padding='post').reshape(1, max_len)\n",
    "    return padded_embedding\n",
    "\n",
    "similarity_matrix = np.zeros((8011, 8011))\n",
    "embeddings_matrix = np.vstack(preprocessed_df['CourseId'].apply(get_padded_embedding))\n"
   ]
  },
  {
   "cell_type": "code",
   "execution_count": 9,
   "metadata": {},
   "outputs": [
    {
     "name": "stdout",
     "output_type": "stream",
     "text": [
      "[ 0.30212376  0.11837974 -0.03773297 ...  0.          0.\n",
      "  0.        ]\n"
     ]
    }
   ],
   "source": [
    "print(embeddings_matrix[0])"
   ]
  },
  {
   "cell_type": "code",
   "execution_count": 13,
   "metadata": {},
   "outputs": [
    {
     "name": "stdout",
     "output_type": "stream",
     "text": [
      "[[ 0.30212376  0.11837974 -0.03773297 ...  0.          0.\n",
      "   0.        ]]\n"
     ]
    }
   ],
   "source": [
    "print(target_embedding_padded)"
   ]
  },
  {
   "attachments": {},
   "cell_type": "markdown",
   "metadata": {},
   "source": [
    "## Nice :) the embeddings match so there are no indexes problem or something like that, safe to calculate similarities now"
   ]
  },
  {
   "cell_type": "code",
   "execution_count": null,
   "metadata": {},
   "outputs": [],
   "source": [
    "\n",
    "similarity_matrix = cosine_similarity(embeddings_matrix)\n"
   ]
  },
  {
   "cell_type": "code",
   "execution_count": null,
   "metadata": {},
   "outputs": [],
   "source": []
  }
 ],
 "metadata": {
  "kernelspec": {
   "display_name": "Python 3",
   "language": "python",
   "name": "python3"
  },
  "language_info": {
   "codemirror_mode": {
    "name": "ipython",
    "version": 3
   },
   "file_extension": ".py",
   "mimetype": "text/x-python",
   "name": "python",
   "nbconvert_exporter": "python",
   "pygments_lexer": "ipython3",
   "version": "3.11.0"
  },
  "orig_nbformat": 4
 },
 "nbformat": 4,
 "nbformat_minor": 2
}
